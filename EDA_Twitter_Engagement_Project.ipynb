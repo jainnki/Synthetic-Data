{
 "cells": [
  {
   "cell_type": "markdown",
   "id": "14dd3df4",
   "metadata": {},
   "source": [
    "## EDA for Social Media Engagement on Twitter"
   ]
  },
  {
   "cell_type": "markdown",
   "id": "3e2b55d5",
   "metadata": {},
   "source": [
    "### Exploratory Data Analysis about distribution of model input features and target variable in the dataset\n",
    "\n",
    "\n",
    "#### 1) Calculate summary statistics\n",
    "\n",
    "#### 2) Visualise class distribution\n",
    "\n",
    "#### 3) Derive key insights\n"
   ]
  },
  {
   "cell_type": "code",
   "execution_count": null,
   "id": "f575ae07",
   "metadata": {},
   "outputs": [],
   "source": []
  },
  {
   "cell_type": "markdown",
   "id": "3101dc6c",
   "metadata": {},
   "source": [
    "### EDA Insight from Input features\n",
    "\n",
    "#### 36% of tweet contains Hindi text\n",
    "\n",
    "###### It can be seen that most of the time, tweet has been considered for Hashtag only once (1 class has 47%)\n",
    "\n",
    "######  Most of the Follower count falls under 10000\n",
    "\n",
    "###### It can be seen that only 23% tweet contains url¶\n",
    "\n",
    "##### There are 53% tweet with 0 emotion score \n",
    "\n",
    "#### 85% of tweet have been retweeted\n",
    "\n",
    "###### It can be seen that most of the tweet has been done between 6am and 12pm\n",
    "\n",
    "###### It can be seen that almost 60% of tweet has been done on Wednesday\n",
    "\n",
    "###### Like engagement quotient has over 93% as 0 and is not the important factor contributing for Tweet Engagment\n",
    "\n",
    "###### Quote engagement quotient is almost nill and is not the important factor contributing for Tweet Engagement\n",
    "\n",
    "######  Reply engagement quotient is almost nill and is not the important factor contributing for Tweet Engagement\n",
    "\n",
    "###### It can be seen that most of the tweet (95%) have not been replied\n",
    "\n",
    "###### It can be seen that only 0.68% are verified account and most of the tweet engagement has been through non-verified (regular accounts)"
   ]
  },
  {
   "cell_type": "markdown",
   "id": "307ff4ff",
   "metadata": {},
   "source": [
    "### Importing Python libraries"
   ]
  },
  {
   "cell_type": "code",
   "execution_count": 1,
   "id": "f0384139",
   "metadata": {},
   "outputs": [],
   "source": [
    "import numpy as np\n",
    "import pandas as pd"
   ]
  },
  {
   "cell_type": "code",
   "execution_count": 2,
   "id": "ff3d89b2",
   "metadata": {},
   "outputs": [],
   "source": [
    "from sklearn.metrics import mean_squared_error\n",
    "import seaborn as sns \n",
    "import matplotlib.pyplot as plt \n",
    "import math\n",
    "import datetime as dt\n",
    "from sklearn.metrics import mean_squared_error, mean_absolute_error, explained_variance_score, r2_score \n",
    "from sklearn.metrics import   accuracy_score\n",
    "from sklearn.preprocessing import MinMaxScaler\n",
    "from sklearn.tree import DecisionTreeRegressor\n",
    "from sklearn.ensemble import RandomForestRegressor\n",
    "from sklearn.model_selection import cross_val_score"
   ]
  },
  {
   "cell_type": "code",
   "execution_count": 3,
   "id": "0e91e6a2",
   "metadata": {},
   "outputs": [],
   "source": [
    "df = pd.read_csv(\"D:/IIT Delhi/Project_work/tanishq_final2.csv\",encoding='latin-1')"
   ]
  },
  {
   "cell_type": "code",
   "execution_count": 4,
   "id": "8b87767e",
   "metadata": {},
   "outputs": [
    {
     "name": "stdout",
     "output_type": "stream",
     "text": [
      "<class 'pandas.core.frame.DataFrame'>\n",
      "RangeIndex: 231339 entries, 0 to 231338\n",
      "Data columns (total 16 columns):\n",
      " #   Column           Non-Null Count   Dtype  \n",
      "---  ------           --------------   -----  \n",
      " 0   id               231339 non-null  int64  \n",
      " 1   text             218978 non-null  object \n",
      " 2   hashtag_count    231339 non-null  int64  \n",
      " 3   is_reply         231339 non-null  int64  \n",
      " 4   is_retweet       231339 non-null  int64  \n",
      " 5   time             231339 non-null  int64  \n",
      " 6   day              231339 non-null  int64  \n",
      " 7   url              231339 non-null  int64  \n",
      " 8   retweet_count    231339 non-null  int64  \n",
      " 9   reply_count      231339 non-null  int64  \n",
      " 10  like_count       231339 non-null  int64  \n",
      " 11  quote_count      231339 non-null  int64  \n",
      " 12  follower_count   231339 non-null  int64  \n",
      " 13  verified         231339 non-null  int64  \n",
      " 14  sentiment_score  231339 non-null  float64\n",
      " 15  emotion_score    231339 non-null  float64\n",
      "dtypes: float64(2), int64(13), object(1)\n",
      "memory usage: 28.2+ MB\n"
     ]
    }
   ],
   "source": [
    "df.info()"
   ]
  },
  {
   "cell_type": "code",
   "execution_count": 5,
   "id": "477b9534",
   "metadata": {},
   "outputs": [
    {
     "data": {
      "text/html": [
       "<div>\n",
       "<style scoped>\n",
       "    .dataframe tbody tr th:only-of-type {\n",
       "        vertical-align: middle;\n",
       "    }\n",
       "\n",
       "    .dataframe tbody tr th {\n",
       "        vertical-align: top;\n",
       "    }\n",
       "\n",
       "    .dataframe thead th {\n",
       "        text-align: right;\n",
       "    }\n",
       "</style>\n",
       "<table border=\"1\" class=\"dataframe\">\n",
       "  <thead>\n",
       "    <tr style=\"text-align: right;\">\n",
       "      <th></th>\n",
       "      <th>id</th>\n",
       "      <th>text</th>\n",
       "      <th>hashtag_count</th>\n",
       "      <th>is_reply</th>\n",
       "      <th>is_retweet</th>\n",
       "      <th>time</th>\n",
       "      <th>day</th>\n",
       "      <th>url</th>\n",
       "      <th>retweet_count</th>\n",
       "      <th>reply_count</th>\n",
       "      <th>like_count</th>\n",
       "      <th>quote_count</th>\n",
       "      <th>follower_count</th>\n",
       "      <th>verified</th>\n",
       "      <th>sentiment_score</th>\n",
       "      <th>emotion_score</th>\n",
       "    </tr>\n",
       "  </thead>\n",
       "  <tbody>\n",
       "    <tr>\n",
       "      <th>0</th>\n",
       "      <td>0</td>\n",
       "      <td>please ... do not buy from.. they are working ...</td>\n",
       "      <td>3</td>\n",
       "      <td>0</td>\n",
       "      <td>1</td>\n",
       "      <td>23</td>\n",
       "      <td>2</td>\n",
       "      <td>0</td>\n",
       "      <td>806</td>\n",
       "      <td>0</td>\n",
       "      <td>0</td>\n",
       "      <td>0</td>\n",
       "      <td>34</td>\n",
       "      <td>0</td>\n",
       "      <td>0.3182</td>\n",
       "      <td>0.3182</td>\n",
       "    </tr>\n",
       "    <tr>\n",
       "      <th>1</th>\n",
       "      <td>1</td>\n",
       "      <td>please ... do not buy from.. they are working ...</td>\n",
       "      <td>3</td>\n",
       "      <td>0</td>\n",
       "      <td>1</td>\n",
       "      <td>23</td>\n",
       "      <td>2</td>\n",
       "      <td>0</td>\n",
       "      <td>806</td>\n",
       "      <td>0</td>\n",
       "      <td>0</td>\n",
       "      <td>0</td>\n",
       "      <td>230</td>\n",
       "      <td>0</td>\n",
       "      <td>0.3182</td>\n",
       "      <td>0.3182</td>\n",
       "    </tr>\n",
       "    <tr>\n",
       "      <th>2</th>\n",
       "      <td>2</td>\n",
       "      <td>had an opportunity to express my views on the ...</td>\n",
       "      <td>1</td>\n",
       "      <td>0</td>\n",
       "      <td>1</td>\n",
       "      <td>23</td>\n",
       "      <td>2</td>\n",
       "      <td>0</td>\n",
       "      <td>2158</td>\n",
       "      <td>0</td>\n",
       "      <td>0</td>\n",
       "      <td>0</td>\n",
       "      <td>111</td>\n",
       "      <td>0</td>\n",
       "      <td>0.5859</td>\n",
       "      <td>0.5859</td>\n",
       "    </tr>\n",
       "    <tr>\n",
       "      <th>3</th>\n",
       "      <td>3</td>\n",
       "      <td>please ... do not buy from.. they are working ...</td>\n",
       "      <td>3</td>\n",
       "      <td>0</td>\n",
       "      <td>1</td>\n",
       "      <td>23</td>\n",
       "      <td>2</td>\n",
       "      <td>0</td>\n",
       "      <td>806</td>\n",
       "      <td>0</td>\n",
       "      <td>0</td>\n",
       "      <td>0</td>\n",
       "      <td>3833</td>\n",
       "      <td>0</td>\n",
       "      <td>0.3182</td>\n",
       "      <td>0.3182</td>\n",
       "    </tr>\n",
       "    <tr>\n",
       "      <th>4</th>\n",
       "      <td>4</td>\n",
       "      <td>please ... do not buy from.. they are working ...</td>\n",
       "      <td>3</td>\n",
       "      <td>0</td>\n",
       "      <td>1</td>\n",
       "      <td>23</td>\n",
       "      <td>2</td>\n",
       "      <td>0</td>\n",
       "      <td>806</td>\n",
       "      <td>0</td>\n",
       "      <td>0</td>\n",
       "      <td>0</td>\n",
       "      <td>247</td>\n",
       "      <td>0</td>\n",
       "      <td>0.3182</td>\n",
       "      <td>0.3182</td>\n",
       "    </tr>\n",
       "  </tbody>\n",
       "</table>\n",
       "</div>"
      ],
      "text/plain": [
       "   id                                               text  hashtag_count  \\\n",
       "0   0  please ... do not buy from.. they are working ...              3   \n",
       "1   1  please ... do not buy from.. they are working ...              3   \n",
       "2   2  had an opportunity to express my views on the ...              1   \n",
       "3   3  please ... do not buy from.. they are working ...              3   \n",
       "4   4  please ... do not buy from.. they are working ...              3   \n",
       "\n",
       "   is_reply  is_retweet  time  day  url  retweet_count  reply_count  \\\n",
       "0         0           1    23    2    0            806            0   \n",
       "1         0           1    23    2    0            806            0   \n",
       "2         0           1    23    2    0           2158            0   \n",
       "3         0           1    23    2    0            806            0   \n",
       "4         0           1    23    2    0            806            0   \n",
       "\n",
       "   like_count  quote_count  follower_count  verified  sentiment_score  \\\n",
       "0           0            0              34         0           0.3182   \n",
       "1           0            0             230         0           0.3182   \n",
       "2           0            0             111         0           0.5859   \n",
       "3           0            0            3833         0           0.3182   \n",
       "4           0            0             247         0           0.3182   \n",
       "\n",
       "   emotion_score  \n",
       "0         0.3182  \n",
       "1         0.3182  \n",
       "2         0.5859  \n",
       "3         0.3182  \n",
       "4         0.3182  "
      ]
     },
     "execution_count": 5,
     "metadata": {},
     "output_type": "execute_result"
    }
   ],
   "source": [
    "df.head(5)"
   ]
  },
  {
   "cell_type": "markdown",
   "id": "11bbf8f8",
   "metadata": {},
   "source": [
    "## Calculate summary statistics"
   ]
  },
  {
   "cell_type": "markdown",
   "id": "dd3235db",
   "metadata": {},
   "source": [
    "#### Frequency Distribution for retweet_count"
   ]
  },
  {
   "cell_type": "code",
   "execution_count": 65,
   "id": "a54144a4",
   "metadata": {},
   "outputs": [
    {
     "data": {
      "text/html": [
       "<div>\n",
       "<style scoped>\n",
       "    .dataframe tbody tr th:only-of-type {\n",
       "        vertical-align: middle;\n",
       "    }\n",
       "\n",
       "    .dataframe tbody tr th {\n",
       "        vertical-align: top;\n",
       "    }\n",
       "\n",
       "    .dataframe thead th {\n",
       "        text-align: right;\n",
       "    }\n",
       "</style>\n",
       "<table border=\"1\" class=\"dataframe\">\n",
       "  <thead>\n",
       "    <tr style=\"text-align: right;\">\n",
       "      <th></th>\n",
       "      <th>serial_number</th>\n",
       "      <th>text</th>\n",
       "      <th>hashtag_count</th>\n",
       "      <th>is_reply</th>\n",
       "      <th>is_retweet</th>\n",
       "      <th>time</th>\n",
       "      <th>day</th>\n",
       "      <th>url</th>\n",
       "      <th>retweet_count</th>\n",
       "      <th>reply_count</th>\n",
       "      <th>like_count</th>\n",
       "      <th>quote_count</th>\n",
       "      <th>follower_count</th>\n",
       "      <th>verified</th>\n",
       "      <th>sentiment_score</th>\n",
       "      <th>emotion_score</th>\n",
       "      <th>retweet_class</th>\n",
       "    </tr>\n",
       "  </thead>\n",
       "  <tbody>\n",
       "    <tr>\n",
       "      <th>0</th>\n",
       "      <td>0</td>\n",
       "      <td>please ... do not buy from.. they are working ...</td>\n",
       "      <td>3</td>\n",
       "      <td>0</td>\n",
       "      <td>1</td>\n",
       "      <td>23</td>\n",
       "      <td>2</td>\n",
       "      <td>0</td>\n",
       "      <td>806</td>\n",
       "      <td>0</td>\n",
       "      <td>0</td>\n",
       "      <td>0</td>\n",
       "      <td>34</td>\n",
       "      <td>0</td>\n",
       "      <td>0.3182</td>\n",
       "      <td>0.3182</td>\n",
       "      <td>100-1k</td>\n",
       "    </tr>\n",
       "    <tr>\n",
       "      <th>1</th>\n",
       "      <td>1</td>\n",
       "      <td>please ... do not buy from.. they are working ...</td>\n",
       "      <td>3</td>\n",
       "      <td>0</td>\n",
       "      <td>1</td>\n",
       "      <td>23</td>\n",
       "      <td>2</td>\n",
       "      <td>0</td>\n",
       "      <td>806</td>\n",
       "      <td>0</td>\n",
       "      <td>0</td>\n",
       "      <td>0</td>\n",
       "      <td>230</td>\n",
       "      <td>0</td>\n",
       "      <td>0.3182</td>\n",
       "      <td>0.3182</td>\n",
       "      <td>100-1k</td>\n",
       "    </tr>\n",
       "  </tbody>\n",
       "</table>\n",
       "</div>"
      ],
      "text/plain": [
       "   serial_number                                               text  \\\n",
       "0              0  please ... do not buy from.. they are working ...   \n",
       "1              1  please ... do not buy from.. they are working ...   \n",
       "\n",
       "   hashtag_count  is_reply  is_retweet  time  day  url  retweet_count  \\\n",
       "0              3         0           1    23    2    0            806   \n",
       "1              3         0           1    23    2    0            806   \n",
       "\n",
       "   reply_count  like_count  quote_count  follower_count  verified  \\\n",
       "0            0           0            0              34         0   \n",
       "1            0           0            0             230         0   \n",
       "\n",
       "   sentiment_score  emotion_score retweet_class  \n",
       "0           0.3182         0.3182        100-1k  \n",
       "1           0.3182         0.3182        100-1k  "
      ]
     },
     "execution_count": 65,
     "metadata": {},
     "output_type": "execute_result"
    }
   ],
   "source": [
    "# create new variable 'retweet_class to get insght on retweet_count classification' with  list of  conditions\n",
    "conditions = [\n",
    "    (df['retweet_count'] <= 0),\n",
    "    (df['retweet_count'] >= 1) & (df['retweet_count'] <= 10),\n",
    "    (df['retweet_count'] > 10) & (df['retweet_count'] <= 100),\n",
    "    (df['retweet_count'] > 100) & (df['retweet_count'] <= 1000),\n",
    "    (df['retweet_count'] > 100)\n",
    "    ]\n",
    "\n",
    "# create a list of the values we want to assign for each condition\n",
    "values = ['0', '1-10', '10-100','100-1k', '1k+']\n",
    "\n",
    "# create a new column and use np.select to assign values to it using our lists as arguments\n",
    "df['retweet_class'] = np.select(conditions, values)\n",
    "\n",
    "# display updated DataFrame\n",
    "df.head(2)"
   ]
  },
  {
   "cell_type": "code",
   "execution_count": 80,
   "id": "c5f5b0e0",
   "metadata": {},
   "outputs": [
    {
     "data": {
      "text/html": [
       "<div>\n",
       "<style scoped>\n",
       "    .dataframe tbody tr th:only-of-type {\n",
       "        vertical-align: middle;\n",
       "    }\n",
       "\n",
       "    .dataframe tbody tr th {\n",
       "        vertical-align: top;\n",
       "    }\n",
       "\n",
       "    .dataframe thead th {\n",
       "        text-align: right;\n",
       "    }\n",
       "</style>\n",
       "<table border=\"1\" class=\"dataframe\">\n",
       "  <thead>\n",
       "    <tr style=\"text-align: right;\">\n",
       "      <th>col_0</th>\n",
       "      <th>retweet_count</th>\n",
       "    </tr>\n",
       "    <tr>\n",
       "      <th>retweet_class</th>\n",
       "      <th></th>\n",
       "    </tr>\n",
       "  </thead>\n",
       "  <tbody>\n",
       "    <tr>\n",
       "      <th>0</th>\n",
       "      <td>26147</td>\n",
       "    </tr>\n",
       "    <tr>\n",
       "      <th>1-10</th>\n",
       "      <td>22630</td>\n",
       "    </tr>\n",
       "    <tr>\n",
       "      <th>10-100</th>\n",
       "      <td>32720</td>\n",
       "    </tr>\n",
       "    <tr>\n",
       "      <th>100-1k</th>\n",
       "      <td>78047</td>\n",
       "    </tr>\n",
       "    <tr>\n",
       "      <th>1k+</th>\n",
       "      <td>71795</td>\n",
       "    </tr>\n",
       "  </tbody>\n",
       "</table>\n",
       "</div>"
      ],
      "text/plain": [
       "col_0          retweet_count\n",
       "retweet_class               \n",
       "0                      26147\n",
       "1-10                   22630\n",
       "10-100                 32720\n",
       "100-1k                 78047\n",
       "1k+                    71795"
      ]
     },
     "execution_count": 80,
     "metadata": {},
     "output_type": "execute_result"
    }
   ],
   "source": [
    "#retweet_count classification on the basis of frequncy\n",
    "crosstb = pd.crosstab(index=df['retweet_class'], columns='retweet_count')\n",
    "pd.crosstab(index=df['retweet_class'], columns='retweet_count')\n"
   ]
  },
  {
   "cell_type": "code",
   "execution_count": 60,
   "id": "1a37fa7c",
   "metadata": {},
   "outputs": [
    {
     "data": {
      "text/html": [
       "<div>\n",
       "<style scoped>\n",
       "    .dataframe tbody tr th:only-of-type {\n",
       "        vertical-align: middle;\n",
       "    }\n",
       "\n",
       "    .dataframe tbody tr th {\n",
       "        vertical-align: top;\n",
       "    }\n",
       "\n",
       "    .dataframe thead th {\n",
       "        text-align: right;\n",
       "    }\n",
       "</style>\n",
       "<table border=\"1\" class=\"dataframe\">\n",
       "  <thead>\n",
       "    <tr style=\"text-align: right;\">\n",
       "      <th>col_0</th>\n",
       "      <th>retweet_count</th>\n",
       "    </tr>\n",
       "    <tr>\n",
       "      <th>retweet_class</th>\n",
       "      <th></th>\n",
       "    </tr>\n",
       "  </thead>\n",
       "  <tbody>\n",
       "    <tr>\n",
       "      <th>0</th>\n",
       "      <td>11.302461</td>\n",
       "    </tr>\n",
       "    <tr>\n",
       "      <th>1-10</th>\n",
       "      <td>9.782181</td>\n",
       "    </tr>\n",
       "    <tr>\n",
       "      <th>10-100</th>\n",
       "      <td>14.143746</td>\n",
       "    </tr>\n",
       "    <tr>\n",
       "      <th>100-1k</th>\n",
       "      <td>33.737070</td>\n",
       "    </tr>\n",
       "    <tr>\n",
       "      <th>1k+</th>\n",
       "      <td>31.034542</td>\n",
       "    </tr>\n",
       "  </tbody>\n",
       "</table>\n",
       "</div>"
      ],
      "text/plain": [
       "col_0          retweet_count\n",
       "retweet_class               \n",
       "0                  11.302461\n",
       "1-10                9.782181\n",
       "10-100             14.143746\n",
       "100-1k             33.737070\n",
       "1k+                31.034542"
      ]
     },
     "execution_count": 60,
     "metadata": {},
     "output_type": "execute_result"
    }
   ],
   "source": [
    "#percentage distribution of retweet_count\n",
    "crosstb/crosstb.sum()*100"
   ]
  },
  {
   "cell_type": "markdown",
   "id": "67fc9290",
   "metadata": {},
   "source": [
    "##### It can be seen that over 60% of retweet count has occurence between 100 and 1K+"
   ]
  },
  {
   "cell_type": "code",
   "execution_count": 81,
   "id": "443d9789",
   "metadata": {},
   "outputs": [
    {
     "data": {
      "image/png": "[encoded data removed]",
      "text/plain": [
       "<Figure size 640x480 with 1 Axes>"
      ]
     },
     "metadata": {},
     "output_type": "display_data"
    }
   ],
   "source": [
    "barplot = crosstb.plot.bar(rot=0,title=\"Retweet distribution\")"
   ]
  },
  {
   "cell_type": "markdown",
   "id": "f7ee8fe0",
   "metadata": {},
   "source": [
    "### Calculating other summary and null check"
   ]
  },
  {
   "cell_type": "code",
   "execution_count": 62,
   "id": "5d6a5fb4",
   "metadata": {},
   "outputs": [
    {
     "data": {
      "text/html": [
       "<div>\n",
       "<style scoped>\n",
       "    .dataframe tbody tr th:only-of-type {\n",
       "        vertical-align: middle;\n",
       "    }\n",
       "\n",
       "    .dataframe tbody tr th {\n",
       "        vertical-align: top;\n",
       "    }\n",
       "\n",
       "    .dataframe thead th {\n",
       "        text-align: right;\n",
       "    }\n",
       "</style>\n",
       "<table border=\"1\" class=\"dataframe\">\n",
       "  <thead>\n",
       "    <tr style=\"text-align: right;\">\n",
       "      <th></th>\n",
       "      <th>retweet_count</th>\n",
       "    </tr>\n",
       "  </thead>\n",
       "  <tbody>\n",
       "    <tr>\n",
       "      <th>count</th>\n",
       "      <td>231339.000000</td>\n",
       "    </tr>\n",
       "    <tr>\n",
       "      <th>mean</th>\n",
       "      <td>929.224186</td>\n",
       "    </tr>\n",
       "    <tr>\n",
       "      <th>std</th>\n",
       "      <td>1352.498997</td>\n",
       "    </tr>\n",
       "    <tr>\n",
       "      <th>min</th>\n",
       "      <td>0.000000</td>\n",
       "    </tr>\n",
       "    <tr>\n",
       "      <th>25%</th>\n",
       "      <td>24.000000</td>\n",
       "    </tr>\n",
       "    <tr>\n",
       "      <th>50%</th>\n",
       "      <td>375.000000</td>\n",
       "    </tr>\n",
       "    <tr>\n",
       "      <th>75%</th>\n",
       "      <td>1338.000000</td>\n",
       "    </tr>\n",
       "    <tr>\n",
       "      <th>max</th>\n",
       "      <td>6332.000000</td>\n",
       "    </tr>\n",
       "  </tbody>\n",
       "</table>\n",
       "</div>"
      ],
      "text/plain": [
       "       retweet_count\n",
       "count  231339.000000\n",
       "mean      929.224186\n",
       "std      1352.498997\n",
       "min         0.000000\n",
       "25%        24.000000\n",
       "50%       375.000000\n",
       "75%      1338.000000\n",
       "max      6332.000000"
      ]
     },
     "execution_count": 62,
     "metadata": {},
     "output_type": "execute_result"
    }
   ],
   "source": [
    "# create subset data frame for the retweet counts\n",
    "df_rw = df[['retweet_count']]\n",
    "df_rw.describe()"
   ]
  },
  {
   "cell_type": "code",
   "execution_count": 63,
   "id": "fc6dfd7a",
   "metadata": {},
   "outputs": [
    {
     "data": {
      "text/plain": [
       "retweet_count    0\n",
       "dtype: int64"
      ]
     },
     "execution_count": 63,
     "metadata": {},
     "output_type": "execute_result"
    }
   ],
   "source": [
    "df_rw.isna().sum()"
   ]
  },
  {
   "cell_type": "markdown",
   "id": "9a11cc59",
   "metadata": {},
   "source": [
    "## Exploratory Data Analysis for Input feature from the dataset and extract statistical insight \n"
   ]
  },
  {
   "cell_type": "code",
   "execution_count": 6,
   "id": "cfbf7551",
   "metadata": {},
   "outputs": [
    {
     "data": {
      "text/html": [
       "<div>\n",
       "<style scoped>\n",
       "    .dataframe tbody tr th:only-of-type {\n",
       "        vertical-align: middle;\n",
       "    }\n",
       "\n",
       "    .dataframe tbody tr th {\n",
       "        vertical-align: top;\n",
       "    }\n",
       "\n",
       "    .dataframe thead th {\n",
       "        text-align: right;\n",
       "    }\n",
       "</style>\n",
       "<table border=\"1\" class=\"dataframe\">\n",
       "  <thead>\n",
       "    <tr style=\"text-align: right;\">\n",
       "      <th></th>\n",
       "      <th>hashtag_count</th>\n",
       "      <th>is_reply</th>\n",
       "      <th>is_retweet</th>\n",
       "      <th>time</th>\n",
       "      <th>day</th>\n",
       "      <th>url</th>\n",
       "      <th>reply_count</th>\n",
       "      <th>like_count</th>\n",
       "      <th>quote_count</th>\n",
       "      <th>follower_count</th>\n",
       "      <th>verified</th>\n",
       "      <th>emotion_score</th>\n",
       "    </tr>\n",
       "  </thead>\n",
       "  <tbody>\n",
       "    <tr>\n",
       "      <th>0</th>\n",
       "      <td>3</td>\n",
       "      <td>0</td>\n",
       "      <td>1</td>\n",
       "      <td>23</td>\n",
       "      <td>2</td>\n",
       "      <td>0</td>\n",
       "      <td>0</td>\n",
       "      <td>0</td>\n",
       "      <td>0</td>\n",
       "      <td>34</td>\n",
       "      <td>0</td>\n",
       "      <td>0.3182</td>\n",
       "    </tr>\n",
       "    <tr>\n",
       "      <th>1</th>\n",
       "      <td>3</td>\n",
       "      <td>0</td>\n",
       "      <td>1</td>\n",
       "      <td>23</td>\n",
       "      <td>2</td>\n",
       "      <td>0</td>\n",
       "      <td>0</td>\n",
       "      <td>0</td>\n",
       "      <td>0</td>\n",
       "      <td>230</td>\n",
       "      <td>0</td>\n",
       "      <td>0.3182</td>\n",
       "    </tr>\n",
       "    <tr>\n",
       "      <th>2</th>\n",
       "      <td>1</td>\n",
       "      <td>0</td>\n",
       "      <td>1</td>\n",
       "      <td>23</td>\n",
       "      <td>2</td>\n",
       "      <td>0</td>\n",
       "      <td>0</td>\n",
       "      <td>0</td>\n",
       "      <td>0</td>\n",
       "      <td>111</td>\n",
       "      <td>0</td>\n",
       "      <td>0.5859</td>\n",
       "    </tr>\n",
       "    <tr>\n",
       "      <th>3</th>\n",
       "      <td>3</td>\n",
       "      <td>0</td>\n",
       "      <td>1</td>\n",
       "      <td>23</td>\n",
       "      <td>2</td>\n",
       "      <td>0</td>\n",
       "      <td>0</td>\n",
       "      <td>0</td>\n",
       "      <td>0</td>\n",
       "      <td>3833</td>\n",
       "      <td>0</td>\n",
       "      <td>0.3182</td>\n",
       "    </tr>\n",
       "    <tr>\n",
       "      <th>4</th>\n",
       "      <td>3</td>\n",
       "      <td>0</td>\n",
       "      <td>1</td>\n",
       "      <td>23</td>\n",
       "      <td>2</td>\n",
       "      <td>0</td>\n",
       "      <td>0</td>\n",
       "      <td>0</td>\n",
       "      <td>0</td>\n",
       "      <td>247</td>\n",
       "      <td>0</td>\n",
       "      <td>0.3182</td>\n",
       "    </tr>\n",
       "  </tbody>\n",
       "</table>\n",
       "</div>"
      ],
      "text/plain": [
       "   hashtag_count  is_reply  is_retweet  time  day  url  reply_count  \\\n",
       "0              3         0           1    23    2    0            0   \n",
       "1              3         0           1    23    2    0            0   \n",
       "2              1         0           1    23    2    0            0   \n",
       "3              3         0           1    23    2    0            0   \n",
       "4              3         0           1    23    2    0            0   \n",
       "\n",
       "   like_count  quote_count  follower_count  verified  emotion_score  \n",
       "0           0            0              34         0         0.3182  \n",
       "1           0            0             230         0         0.3182  \n",
       "2           0            0             111         0         0.5859  \n",
       "3           0            0            3833         0         0.3182  \n",
       "4           0            0             247         0         0.3182  "
      ]
     },
     "execution_count": 6,
     "metadata": {},
     "output_type": "execute_result"
    }
   ],
   "source": [
    "# extract input features\n",
    "df_input = df[['hashtag_count', 'is_reply', 'is_retweet', 'time', 'day', 'url','reply_count','like_count','quote_count','follower_count','verified','emotion_score']]\n",
    "df_input.head()"
   ]
  },
  {
   "cell_type": "markdown",
   "id": "8afec763",
   "metadata": {},
   "source": [
    "### Statistical Summary view for Emotion Score"
   ]
  },
  {
   "cell_type": "code",
   "execution_count": 7,
   "id": "de8213f8",
   "metadata": {},
   "outputs": [
    {
     "data": {
      "text/plain": [
       "count    231339.000000\n",
       "mean          0.226570\n",
       "std           0.297293\n",
       "min           0.000000\n",
       "25%           0.000000\n",
       "50%           0.000000\n",
       "75%           0.458800\n",
       "max           0.986000\n",
       "Name: emotion_score, dtype: float64"
      ]
     },
     "execution_count": 7,
     "metadata": {},
     "output_type": "execute_result"
    }
   ],
   "source": [
    "df_input['emotion_score'].describe()"
   ]
  },
  {
   "cell_type": "code",
   "execution_count": 17,
   "id": "ae9651e3",
   "metadata": {},
   "outputs": [
    {
     "name": "stderr",
     "output_type": "stream",
     "text": [
      "C:\\Users\\LENOVO\\AppData\\Local\\Temp\\ipykernel_6848\\1482160317.py:13: SettingWithCopyWarning: \n",
      "A value is trying to be set on a copy of a slice from a DataFrame.\n",
      "Try using .loc[row_indexer,col_indexer] = value instead\n",
      "\n",
      "See the caveats in the documentation: https://pandas.pydata.org/pandas-docs/stable/user_guide/indexing.html#returning-a-view-versus-a-copy\n",
      "  df_input['emotion_score_class'] = np.select(conditions, values)\n"
     ]
    },
    {
     "data": {
      "text/html": [
       "<div>\n",
       "<style scoped>\n",
       "    .dataframe tbody tr th:only-of-type {\n",
       "        vertical-align: middle;\n",
       "    }\n",
       "\n",
       "    .dataframe tbody tr th {\n",
       "        vertical-align: top;\n",
       "    }\n",
       "\n",
       "    .dataframe thead th {\n",
       "        text-align: right;\n",
       "    }\n",
       "</style>\n",
       "<table border=\"1\" class=\"dataframe\">\n",
       "  <thead>\n",
       "    <tr style=\"text-align: right;\">\n",
       "      <th>col_0</th>\n",
       "      <th>emotion_score</th>\n",
       "    </tr>\n",
       "    <tr>\n",
       "      <th>emotion_score_class</th>\n",
       "      <th></th>\n",
       "    </tr>\n",
       "  </thead>\n",
       "  <tbody>\n",
       "    <tr>\n",
       "      <th>0</th>\n",
       "      <td>123045</td>\n",
       "    </tr>\n",
       "    <tr>\n",
       "      <th>0 - 0.05</th>\n",
       "      <td>2187</td>\n",
       "    </tr>\n",
       "    <tr>\n",
       "      <th>0.05 - 0.1</th>\n",
       "      <td>4684</td>\n",
       "    </tr>\n",
       "    <tr>\n",
       "      <th>0.1 - 0.5</th>\n",
       "      <td>56284</td>\n",
       "    </tr>\n",
       "    <tr>\n",
       "      <th>0.5 - 1</th>\n",
       "      <td>45139</td>\n",
       "    </tr>\n",
       "  </tbody>\n",
       "</table>\n",
       "</div>"
      ],
      "text/plain": [
       "col_0                emotion_score\n",
       "emotion_score_class               \n",
       "0                           123045\n",
       "0 - 0.05                      2187\n",
       "0.05 - 0.1                    4684\n",
       "0.1 - 0.5                    56284\n",
       "0.5 - 1                      45139"
      ]
     },
     "execution_count": 17,
     "metadata": {},
     "output_type": "execute_result"
    }
   ],
   "source": [
    "conditions = [\n",
    "    (df_input['emotion_score'] > 0) & (df_input['emotion_score'] <=0.05),\n",
    "    (df_input['emotion_score'] >0.05) & (df_input['emotion_score'] <=0.10),\n",
    "    (df_input['emotion_score'] >0.10) & (df_input['emotion_score'] <=0.5),\n",
    "    (df_input['emotion_score'] >0.5) & (df_input['emotion_score'] <=1),\n",
    "    ]\n",
    "\n",
    "\n",
    "# create a list of the values we want to assign for each condition\n",
    "values = ['0 - 0.05', '0.05 - 0.1', '0.1 - 0.5','0.5 - 1']\n",
    "\n",
    "# create a new column and use np.select to assign values to it using our lists as arguments\n",
    "df_input['emotion_score_class'] = np.select(conditions, values)\n",
    "\n",
    "# display updated DataFrame\n",
    "df_input.head(2)\n",
    "\n",
    "pd.crosstab(index=df_input['emotion_score_class'], columns='emotion_score')\n"
   ]
  },
  {
   "cell_type": "code",
   "execution_count": 16,
   "id": "d0aacda6",
   "metadata": {},
   "outputs": [
    {
     "data": {
      "text/html": [
       "<div>\n",
       "<style scoped>\n",
       "    .dataframe tbody tr th:only-of-type {\n",
       "        vertical-align: middle;\n",
       "    }\n",
       "\n",
       "    .dataframe tbody tr th {\n",
       "        vertical-align: top;\n",
       "    }\n",
       "\n",
       "    .dataframe thead th {\n",
       "        text-align: right;\n",
       "    }\n",
       "</style>\n",
       "<table border=\"1\" class=\"dataframe\">\n",
       "  <thead>\n",
       "    <tr style=\"text-align: right;\">\n",
       "      <th>col_0</th>\n",
       "      <th>emotion_score</th>\n",
       "    </tr>\n",
       "    <tr>\n",
       "      <th>emotion_score_class</th>\n",
       "      <th></th>\n",
       "    </tr>\n",
       "  </thead>\n",
       "  <tbody>\n",
       "    <tr>\n",
       "      <th>0</th>\n",
       "      <td>53.188178</td>\n",
       "    </tr>\n",
       "    <tr>\n",
       "      <th>0-0.05</th>\n",
       "      <td>0.945366</td>\n",
       "    </tr>\n",
       "    <tr>\n",
       "      <th>0.05 - 0.1</th>\n",
       "      <td>2.024734</td>\n",
       "    </tr>\n",
       "    <tr>\n",
       "      <th>0.1 - 0.5</th>\n",
       "      <td>24.329663</td>\n",
       "    </tr>\n",
       "    <tr>\n",
       "      <th>0.5 - 1</th>\n",
       "      <td>19.512058</td>\n",
       "    </tr>\n",
       "  </tbody>\n",
       "</table>\n",
       "</div>"
      ],
      "text/plain": [
       "col_0                emotion_score\n",
       "emotion_score_class               \n",
       "0                        53.188178\n",
       "0-0.05                    0.945366\n",
       "0.05 - 0.1                2.024734\n",
       "0.1 - 0.5                24.329663\n",
       "0.5 - 1                  19.512058"
      ]
     },
     "execution_count": 16,
     "metadata": {},
     "output_type": "execute_result"
    }
   ],
   "source": [
    "crossem = pd.crosstab(index=df_input['emotion_score_class'], columns='emotion_score')\n",
    "crossem/crossem.sum()*100"
   ]
  },
  {
   "cell_type": "code",
   "execution_count": 18,
   "id": "c5ee29e7",
   "metadata": {},
   "outputs": [
    {
     "data": {
      "image/png": "[encoded data removed]",
      "text/plain": [
       "<Figure size 640x480 with 1 Axes>"
      ]
     },
     "metadata": {},
     "output_type": "display_data"
    }
   ],
   "source": [
    "barplotem = crossem.plot.bar(rot=0,title=\"emotion distribution\")"
   ]
  },
  {
   "cell_type": "markdown",
   "id": "b5297aef",
   "metadata": {},
   "source": [
    "### Statistical Summary view for Hashtag_count"
   ]
  },
  {
   "cell_type": "code",
   "execution_count": 73,
   "id": "22b127ef",
   "metadata": {},
   "outputs": [
    {
     "data": {
      "text/plain": [
       "count    231339.000000\n",
       "mean          1.374537\n",
       "std           1.371288\n",
       "min           0.000000\n",
       "25%           1.000000\n",
       "50%           1.000000\n",
       "75%           2.000000\n",
       "max          33.000000\n",
       "Name: hashtag_count, dtype: float64"
      ]
     },
     "execution_count": 73,
     "metadata": {},
     "output_type": "execute_result"
    }
   ],
   "source": [
    "df_input['hashtag_count'].describe()"
   ]
  },
  {
   "cell_type": "code",
   "execution_count": 74,
   "id": "42c675ab",
   "metadata": {},
   "outputs": [
    {
     "data": {
      "text/plain": [
       "0"
      ]
     },
     "execution_count": 74,
     "metadata": {},
     "output_type": "execute_result"
    }
   ],
   "source": [
    "df_input['hashtag_count'].isna().sum()"
   ]
  },
  {
   "cell_type": "code",
   "execution_count": 87,
   "id": "a591dd95",
   "metadata": {},
   "outputs": [
    {
     "name": "stderr",
     "output_type": "stream",
     "text": [
      "C:\\Users\\LENOVO\\AppData\\Local\\Temp\\ipykernel_7564\\2280216564.py:12: SettingWithCopyWarning: \n",
      "A value is trying to be set on a copy of a slice from a DataFrame.\n",
      "Try using .loc[row_indexer,col_indexer] = value instead\n",
      "\n",
      "See the caveats in the documentation: https://pandas.pydata.org/pandas-docs/stable/user_guide/indexing.html#returning-a-view-versus-a-copy\n",
      "  df_input['hashtag_count_class'] = np.select(conditions, values)\n"
     ]
    },
    {
     "data": {
      "text/html": [
       "<div>\n",
       "<style scoped>\n",
       "    .dataframe tbody tr th:only-of-type {\n",
       "        vertical-align: middle;\n",
       "    }\n",
       "\n",
       "    .dataframe tbody tr th {\n",
       "        vertical-align: top;\n",
       "    }\n",
       "\n",
       "    .dataframe thead th {\n",
       "        text-align: right;\n",
       "    }\n",
       "</style>\n",
       "<table border=\"1\" class=\"dataframe\">\n",
       "  <thead>\n",
       "    <tr style=\"text-align: right;\">\n",
       "      <th>col_0</th>\n",
       "      <th>hashtag_count</th>\n",
       "    </tr>\n",
       "    <tr>\n",
       "      <th>hashtag_count_class</th>\n",
       "      <th></th>\n",
       "    </tr>\n",
       "  </thead>\n",
       "  <tbody>\n",
       "    <tr>\n",
       "      <th>0</th>\n",
       "      <td>54066</td>\n",
       "    </tr>\n",
       "    <tr>\n",
       "      <th>1</th>\n",
       "      <td>109798</td>\n",
       "    </tr>\n",
       "    <tr>\n",
       "      <th>2</th>\n",
       "      <td>47975</td>\n",
       "    </tr>\n",
       "    <tr>\n",
       "      <th>3+</th>\n",
       "      <td>19500</td>\n",
       "    </tr>\n",
       "  </tbody>\n",
       "</table>\n",
       "</div>"
      ],
      "text/plain": [
       "col_0                hashtag_count\n",
       "hashtag_count_class               \n",
       "0                            54066\n",
       "1                           109798\n",
       "2                            47975\n",
       "3+                           19500"
      ]
     },
     "execution_count": 87,
     "metadata": {},
     "output_type": "execute_result"
    }
   ],
   "source": [
    "conditions = [\n",
    "    (df_input['hashtag_count'] <= 0),\n",
    "    (df_input['hashtag_count'] >= 1) & (df_input['hashtag_count'] < 2),\n",
    "    (df_input['hashtag_count'] >=2) & (df_input['hashtag_count'] < 3),\n",
    "    (df_input['hashtag_count'] <= 3)\n",
    "    ]\n",
    "\n",
    "# create a list of the values we want to assign for each condition\n",
    "values = ['0', '1', '2', '3+']\n",
    "\n",
    "# create a new column and use np.select to assign values to it using our lists as arguments\n",
    "df_input['hashtag_count_class'] = np.select(conditions, values)\n",
    "\n",
    "# display updated DataFrame\n",
    "df_input.head(2)\n",
    "\n",
    "pd.crosstab(index=df_input['hashtag_count_class'], columns='hashtag_count')\n"
   ]
  },
  {
   "cell_type": "code",
   "execution_count": 88,
   "id": "5b25becb",
   "metadata": {},
   "outputs": [
    {
     "data": {
      "text/html": [
       "<div>\n",
       "<style scoped>\n",
       "    .dataframe tbody tr th:only-of-type {\n",
       "        vertical-align: middle;\n",
       "    }\n",
       "\n",
       "    .dataframe tbody tr th {\n",
       "        vertical-align: top;\n",
       "    }\n",
       "\n",
       "    .dataframe thead th {\n",
       "        text-align: right;\n",
       "    }\n",
       "</style>\n",
       "<table border=\"1\" class=\"dataframe\">\n",
       "  <thead>\n",
       "    <tr style=\"text-align: right;\">\n",
       "      <th>col_0</th>\n",
       "      <th>hashtag_count</th>\n",
       "    </tr>\n",
       "    <tr>\n",
       "      <th>hashtag_count_class</th>\n",
       "      <th></th>\n",
       "    </tr>\n",
       "  </thead>\n",
       "  <tbody>\n",
       "    <tr>\n",
       "      <th>0</th>\n",
       "      <td>23.370897</td>\n",
       "    </tr>\n",
       "    <tr>\n",
       "      <th>1</th>\n",
       "      <td>47.461950</td>\n",
       "    </tr>\n",
       "    <tr>\n",
       "      <th>2</th>\n",
       "      <td>20.737965</td>\n",
       "    </tr>\n",
       "    <tr>\n",
       "      <th>3+</th>\n",
       "      <td>8.429188</td>\n",
       "    </tr>\n",
       "  </tbody>\n",
       "</table>\n",
       "</div>"
      ],
      "text/plain": [
       "col_0                hashtag_count\n",
       "hashtag_count_class               \n",
       "0                        23.370897\n",
       "1                        47.461950\n",
       "2                        20.737965\n",
       "3+                        8.429188"
      ]
     },
     "execution_count": 88,
     "metadata": {},
     "output_type": "execute_result"
    }
   ],
   "source": [
    "crossth = pd.crosstab(index=df_input['hashtag_count_class'], columns='hashtag_count')\n",
    "crossth/crossth.sum()*100\n"
   ]
  },
  {
   "cell_type": "code",
   "execution_count": 89,
   "id": "3089f1b4",
   "metadata": {},
   "outputs": [
    {
     "data": {
      "image/png": "[encoded data removed]",
      "text/plain": [
       "<Figure size 640x480 with 1 Axes>"
      ]
     },
     "metadata": {},
     "output_type": "display_data"
    }
   ],
   "source": [
    "barploth = crossth.plot.bar(rot=0,title=\"hashtag distribution\")"
   ]
  },
  {
   "cell_type": "markdown",
   "id": "fcdd87b5",
   "metadata": {},
   "source": [
    "##### It can be seen that most of the time, tweet has been considered for Hashtag only once (1 class has 47%)"
   ]
  },
  {
   "cell_type": "markdown",
   "id": "5930b191",
   "metadata": {},
   "source": [
    "### Statistical Summary view for reply_count"
   ]
  },
  {
   "cell_type": "code",
   "execution_count": 91,
   "id": "0cb3596b",
   "metadata": {},
   "outputs": [
    {
     "data": {
      "text/plain": [
       "count    231339.000000\n",
       "mean          0.182481\n",
       "std          12.905379\n",
       "min           0.000000\n",
       "25%           0.000000\n",
       "50%           0.000000\n",
       "75%           0.000000\n",
       "max        4522.000000\n",
       "Name: reply_count, dtype: float64"
      ]
     },
     "execution_count": 91,
     "metadata": {},
     "output_type": "execute_result"
    }
   ],
   "source": [
    "df_input['reply_count'].describe()"
   ]
  },
  {
   "cell_type": "code",
   "execution_count": 92,
   "id": "40bdc93c",
   "metadata": {},
   "outputs": [
    {
     "data": {
      "text/plain": [
       "0"
      ]
     },
     "execution_count": 92,
     "metadata": {},
     "output_type": "execute_result"
    }
   ],
   "source": [
    "df_input['reply_count'].isna().sum()"
   ]
  },
  {
   "cell_type": "code",
   "execution_count": 187,
   "id": "34412e92",
   "metadata": {},
   "outputs": [
    {
     "data": {
      "text/html": [
       "<div>\n",
       "<style scoped>\n",
       "    .dataframe tbody tr th:only-of-type {\n",
       "        vertical-align: middle;\n",
       "    }\n",
       "\n",
       "    .dataframe tbody tr th {\n",
       "        vertical-align: top;\n",
       "    }\n",
       "\n",
       "    .dataframe thead th {\n",
       "        text-align: right;\n",
       "    }\n",
       "</style>\n",
       "<table border=\"1\" class=\"dataframe\">\n",
       "  <thead>\n",
       "    <tr style=\"text-align: right;\">\n",
       "      <th>col_0</th>\n",
       "      <th>reply_count</th>\n",
       "    </tr>\n",
       "    <tr>\n",
       "      <th>reply_count_class</th>\n",
       "      <th></th>\n",
       "    </tr>\n",
       "  </thead>\n",
       "  <tbody>\n",
       "    <tr>\n",
       "      <th>0</th>\n",
       "      <td>226482</td>\n",
       "    </tr>\n",
       "    <tr>\n",
       "      <th>1-10</th>\n",
       "      <td>4521</td>\n",
       "    </tr>\n",
       "    <tr>\n",
       "      <th>10-50</th>\n",
       "      <td>272</td>\n",
       "    </tr>\n",
       "    <tr>\n",
       "      <th>50-100</th>\n",
       "      <td>64</td>\n",
       "    </tr>\n",
       "  </tbody>\n",
       "</table>\n",
       "</div>"
      ],
      "text/plain": [
       "col_0              reply_count\n",
       "reply_count_class             \n",
       "0                       226482\n",
       "1-10                      4521\n",
       "10-50                      272\n",
       "50-100                      64"
      ]
     },
     "execution_count": 187,
     "metadata": {},
     "output_type": "execute_result"
    }
   ],
   "source": [
    "conditions = [\n",
    "    (df_input['reply_count'] <= 0),\n",
    "    (df_input['reply_count'] >= 1) & (df_input['reply_count'] <= 10),\n",
    "    (df_input['reply_count'] >10) & (df_input['reply_count'] <= 50),\n",
    "    (df_input['reply_count'] >50) & (df_input['reply_count'] <= 100),\n",
    "    (df_input['reply_count'] < 100)\n",
    "    ]\n",
    "\n",
    "# create a list of the values we want to assign for each condition\n",
    "values = ['0', '1-10', '10-50', '50-100','100+']\n",
    "\n",
    "# create a new column and use np.select to assign values to it using our lists as arguments\n",
    "df_input['reply_count_class'] = np.select(conditions, values)\n",
    "\n",
    "# display updated DataFrame\n",
    "df_input.head(2)\n",
    "\n",
    "pd.crosstab(index=df_input['reply_count_class'], columns='reply_count')\n"
   ]
  },
  {
   "cell_type": "code",
   "execution_count": 188,
   "id": "9c398f9c",
   "metadata": {},
   "outputs": [
    {
     "data": {
      "text/html": [
       "<div>\n",
       "<style scoped>\n",
       "    .dataframe tbody tr th:only-of-type {\n",
       "        vertical-align: middle;\n",
       "    }\n",
       "\n",
       "    .dataframe tbody tr th {\n",
       "        vertical-align: top;\n",
       "    }\n",
       "\n",
       "    .dataframe thead th {\n",
       "        text-align: right;\n",
       "    }\n",
       "</style>\n",
       "<table border=\"1\" class=\"dataframe\">\n",
       "  <thead>\n",
       "    <tr style=\"text-align: right;\">\n",
       "      <th>col_0</th>\n",
       "      <th>reply_count</th>\n",
       "    </tr>\n",
       "    <tr>\n",
       "      <th>reply_count_class</th>\n",
       "      <th></th>\n",
       "    </tr>\n",
       "  </thead>\n",
       "  <tbody>\n",
       "    <tr>\n",
       "      <th>0</th>\n",
       "      <td>97.900484</td>\n",
       "    </tr>\n",
       "    <tr>\n",
       "      <th>1-10</th>\n",
       "      <td>1.954275</td>\n",
       "    </tr>\n",
       "    <tr>\n",
       "      <th>10-50</th>\n",
       "      <td>0.117576</td>\n",
       "    </tr>\n",
       "    <tr>\n",
       "      <th>50-100</th>\n",
       "      <td>0.027665</td>\n",
       "    </tr>\n",
       "  </tbody>\n",
       "</table>\n",
       "</div>"
      ],
      "text/plain": [
       "col_0              reply_count\n",
       "reply_count_class             \n",
       "0                    97.900484\n",
       "1-10                  1.954275\n",
       "10-50                 0.117576\n",
       "50-100                0.027665"
      ]
     },
     "execution_count": 188,
     "metadata": {},
     "output_type": "execute_result"
    }
   ],
   "source": [
    "crosstr = pd.crosstab(index=df_input['reply_count_class'], columns='reply_count')\n",
    "crosstr/crosstr.sum()*100\n"
   ]
  },
  {
   "cell_type": "code",
   "execution_count": 95,
   "id": "1dbf56e8",
   "metadata": {},
   "outputs": [
    {
     "data": {
      "image/png": "[encoded data removed]",
      "text/plain": [
       "<Figure size 640x480 with 1 Axes>"
      ]
     },
     "metadata": {},
     "output_type": "display_data"
    }
   ],
   "source": [
    "barplotr = crosstr.plot.bar(rot=0,title=\"reply_count distribution\")"
   ]
  },
  {
   "cell_type": "markdown",
   "id": "98d7d07d",
   "metadata": {},
   "source": [
    "##### Reply engagement quotient is almost nill and is not the important factor contributing for Tweet Engagement"
   ]
  },
  {
   "cell_type": "markdown",
   "id": "43e4c0d9",
   "metadata": {},
   "source": [
    "### Statistical Summary view for follower_count"
   ]
  },
  {
   "cell_type": "code",
   "execution_count": 97,
   "id": "73fcc09f",
   "metadata": {},
   "outputs": [
    {
     "data": {
      "text/plain": [
       "count    2.313390e+05\n",
       "mean     8.252037e+03\n",
       "std      2.430598e+05\n",
       "min      0.000000e+00\n",
       "25%      6.500000e+01\n",
       "50%      2.380000e+02\n",
       "75%      8.620000e+02\n",
       "max      1.584126e+07\n",
       "Name: follower_count, dtype: float64"
      ]
     },
     "execution_count": 97,
     "metadata": {},
     "output_type": "execute_result"
    }
   ],
   "source": [
    "df_input['follower_count'].describe()"
   ]
  },
  {
   "cell_type": "code",
   "execution_count": 98,
   "id": "0db0beba",
   "metadata": {},
   "outputs": [
    {
     "data": {
      "text/plain": [
       "0"
      ]
     },
     "execution_count": 98,
     "metadata": {},
     "output_type": "execute_result"
    }
   ],
   "source": [
    "df_input['follower_count'].isna().sum()"
   ]
  },
  {
   "cell_type": "code",
   "execution_count": 109,
   "id": "5f3a909c",
   "metadata": {},
   "outputs": [
    {
     "name": "stderr",
     "output_type": "stream",
     "text": [
      "C:\\Users\\LENOVO\\AppData\\Local\\Temp\\ipykernel_7564\\1244487061.py:14: SettingWithCopyWarning: \n",
      "A value is trying to be set on a copy of a slice from a DataFrame.\n",
      "Try using .loc[row_indexer,col_indexer] = value instead\n",
      "\n",
      "See the caveats in the documentation: https://pandas.pydata.org/pandas-docs/stable/user_guide/indexing.html#returning-a-view-versus-a-copy\n",
      "  df_input['follower_count_class'] = np.select(conditions, values)\n"
     ]
    },
    {
     "data": {
      "text/html": [
       "<div>\n",
       "<style scoped>\n",
       "    .dataframe tbody tr th:only-of-type {\n",
       "        vertical-align: middle;\n",
       "    }\n",
       "\n",
       "    .dataframe tbody tr th {\n",
       "        vertical-align: top;\n",
       "    }\n",
       "\n",
       "    .dataframe thead th {\n",
       "        text-align: right;\n",
       "    }\n",
       "</style>\n",
       "<table border=\"1\" class=\"dataframe\">\n",
       "  <thead>\n",
       "    <tr style=\"text-align: right;\">\n",
       "      <th>col_0</th>\n",
       "      <th>follower_count</th>\n",
       "    </tr>\n",
       "    <tr>\n",
       "      <th>follower_count_class</th>\n",
       "      <th></th>\n",
       "    </tr>\n",
       "  </thead>\n",
       "  <tbody>\n",
       "    <tr>\n",
       "      <th>0</th>\n",
       "      <td>48</td>\n",
       "    </tr>\n",
       "    <tr>\n",
       "      <th>10K-1L</th>\n",
       "      <td>7885</td>\n",
       "    </tr>\n",
       "    <tr>\n",
       "      <th>10L-1cr</th>\n",
       "      <td>197</td>\n",
       "    </tr>\n",
       "    <tr>\n",
       "      <th>1L-10L</th>\n",
       "      <td>749</td>\n",
       "    </tr>\n",
       "    <tr>\n",
       "      <th>&lt;10K</th>\n",
       "      <td>222460</td>\n",
       "    </tr>\n",
       "  </tbody>\n",
       "</table>\n",
       "</div>"
      ],
      "text/plain": [
       "col_0                 follower_count\n",
       "follower_count_class                \n",
       "0                                 48\n",
       "10K-1L                          7885\n",
       "10L-1cr                          197\n",
       "1L-10L                           749\n",
       "<10K                          222460"
      ]
     },
     "execution_count": 109,
     "metadata": {},
     "output_type": "execute_result"
    }
   ],
   "source": [
    "conditions = [\n",
    "    (df_input['follower_count'] < 10000),\n",
    "    (df_input['follower_count'] >= 10000) & (df_input['follower_count'] <= 100000),\n",
    "    (df_input['follower_count'] >100000) & (df_input['follower_count'] <= 1000000),\n",
    "    (df_input['follower_count'] >1000000) & (df_input['follower_count'] <= 10000000),\n",
    "    (df_input['follower_count'] < 10000000)\n",
    "    ]\n",
    "\n",
    "# create a list of the values we want to assign for each condition\n",
    "values = ['<10K', '10K-1L', '1L-10L','10L-1cr','+1M']\n",
    "\n",
    "\n",
    "# create a new column and use np.select to assign values to it using our lists as arguments\n",
    "df_input['follower_count_class'] = np.select(conditions, values)\n",
    "\n",
    "# display updated DataFrame\n",
    "df_input.head(2)\n",
    "\n",
    "pd.crosstab(index=df_input['follower_count_class'], columns='follower_count')\n",
    "\n",
    "#labels = ['<10k', '10k-100k', '100k-1M', '1M-10M', '10M+']"
   ]
  },
  {
   "cell_type": "code",
   "execution_count": 110,
   "id": "18568f72",
   "metadata": {},
   "outputs": [],
   "source": [
    "## 0 belongs to class greater than 1 crore"
   ]
  },
  {
   "cell_type": "code",
   "execution_count": 111,
   "id": "efba7f9f",
   "metadata": {},
   "outputs": [
    {
     "data": {
      "text/html": [
       "<div>\n",
       "<style scoped>\n",
       "    .dataframe tbody tr th:only-of-type {\n",
       "        vertical-align: middle;\n",
       "    }\n",
       "\n",
       "    .dataframe tbody tr th {\n",
       "        vertical-align: top;\n",
       "    }\n",
       "\n",
       "    .dataframe thead th {\n",
       "        text-align: right;\n",
       "    }\n",
       "</style>\n",
       "<table border=\"1\" class=\"dataframe\">\n",
       "  <thead>\n",
       "    <tr style=\"text-align: right;\">\n",
       "      <th>col_0</th>\n",
       "      <th>follower_count</th>\n",
       "    </tr>\n",
       "    <tr>\n",
       "      <th>follower_count_class</th>\n",
       "      <th></th>\n",
       "    </tr>\n",
       "  </thead>\n",
       "  <tbody>\n",
       "    <tr>\n",
       "      <th>0</th>\n",
       "      <td>0.020749</td>\n",
       "    </tr>\n",
       "    <tr>\n",
       "      <th>10K-1L</th>\n",
       "      <td>3.408418</td>\n",
       "    </tr>\n",
       "    <tr>\n",
       "      <th>10L-1cr</th>\n",
       "      <td>0.085156</td>\n",
       "    </tr>\n",
       "    <tr>\n",
       "      <th>1L-10L</th>\n",
       "      <td>0.323767</td>\n",
       "    </tr>\n",
       "    <tr>\n",
       "      <th>&lt;10K</th>\n",
       "      <td>96.161910</td>\n",
       "    </tr>\n",
       "  </tbody>\n",
       "</table>\n",
       "</div>"
      ],
      "text/plain": [
       "col_0                 follower_count\n",
       "follower_count_class                \n",
       "0                           0.020749\n",
       "10K-1L                      3.408418\n",
       "10L-1cr                     0.085156\n",
       "1L-10L                      0.323767\n",
       "<10K                       96.161910"
      ]
     },
     "execution_count": 111,
     "metadata": {},
     "output_type": "execute_result"
    }
   ],
   "source": [
    "crosstf = pd.crosstab(index=df_input['follower_count_class'], columns='follower_count')\n",
    "crosstf/crosstf.sum()*100\n"
   ]
  },
  {
   "cell_type": "code",
   "execution_count": 113,
   "id": "b44ae896",
   "metadata": {},
   "outputs": [
    {
     "data": {
      "image/png": "[encoded data removed]",
      "text/plain": [
       "<Figure size 640x480 with 1 Axes>"
      ]
     },
     "metadata": {},
     "output_type": "display_data"
    }
   ],
   "source": [
    "barplotf = crosstf.plot.bar(rot=0,title=\"follower_count distribution\")"
   ]
  },
  {
   "cell_type": "markdown",
   "id": "a410edfc",
   "metadata": {},
   "source": [
    "#### Most of the Follower count falls under 10000"
   ]
  },
  {
   "cell_type": "markdown",
   "id": "42421854",
   "metadata": {},
   "source": [
    "### Statistical Summary view for like_count"
   ]
  },
  {
   "cell_type": "code",
   "execution_count": 114,
   "id": "950c9144",
   "metadata": {},
   "outputs": [
    {
     "data": {
      "text/plain": [
       "count    231339.000000\n",
       "mean          2.424602\n",
       "std         106.058343\n",
       "min           0.000000\n",
       "25%           0.000000\n",
       "50%           0.000000\n",
       "75%           0.000000\n",
       "max       21409.000000\n",
       "Name: like_count, dtype: float64"
      ]
     },
     "execution_count": 114,
     "metadata": {},
     "output_type": "execute_result"
    }
   ],
   "source": [
    "df_input['like_count'].describe()"
   ]
  },
  {
   "cell_type": "code",
   "execution_count": 115,
   "id": "e6d9d822",
   "metadata": {},
   "outputs": [
    {
     "data": {
      "text/plain": [
       "0"
      ]
     },
     "execution_count": 115,
     "metadata": {},
     "output_type": "execute_result"
    }
   ],
   "source": [
    "df_input['like_count'].isna().sum()"
   ]
  },
  {
   "cell_type": "code",
   "execution_count": 183,
   "id": "05489267",
   "metadata": {},
   "outputs": [
    {
     "data": {
      "text/html": [
       "<div>\n",
       "<style scoped>\n",
       "    .dataframe tbody tr th:only-of-type {\n",
       "        vertical-align: middle;\n",
       "    }\n",
       "\n",
       "    .dataframe tbody tr th {\n",
       "        vertical-align: top;\n",
       "    }\n",
       "\n",
       "    .dataframe thead th {\n",
       "        text-align: right;\n",
       "    }\n",
       "</style>\n",
       "<table border=\"1\" class=\"dataframe\">\n",
       "  <thead>\n",
       "    <tr style=\"text-align: right;\">\n",
       "      <th>col_0</th>\n",
       "      <th>like_count</th>\n",
       "    </tr>\n",
       "    <tr>\n",
       "      <th>like_count_class</th>\n",
       "      <th></th>\n",
       "    </tr>\n",
       "  </thead>\n",
       "  <tbody>\n",
       "    <tr>\n",
       "      <th>0</th>\n",
       "      <td>12148</td>\n",
       "    </tr>\n",
       "    <tr>\n",
       "      <th>1-10</th>\n",
       "      <td>5717</td>\n",
       "    </tr>\n",
       "    <tr>\n",
       "      <th>10-50</th>\n",
       "      <td>663</td>\n",
       "    </tr>\n",
       "    <tr>\n",
       "      <th>50-100</th>\n",
       "      <td>170</td>\n",
       "    </tr>\n",
       "  </tbody>\n",
       "</table>\n",
       "</div>"
      ],
      "text/plain": [
       "col_0             like_count\n",
       "like_count_class            \n",
       "0                      12148\n",
       "1-10                    5717\n",
       "10-50                    663\n",
       "50-100                   170"
      ]
     },
     "execution_count": 183,
     "metadata": {},
     "output_type": "execute_result"
    }
   ],
   "source": [
    "conditions = [\n",
    "    (df_input['like_count'] <= 0),\n",
    "    (df_input['like_count'] >= 1) & (df_input['like_count'] <= 10),\n",
    "    (df_input['like_count'] >10) & (df_input['like_count'] <= 50),\n",
    "    (df_input['like_count'] >50) & (df_input['like_count'] <= 100),\n",
    "    (df_input['like_count'] < 100)\n",
    "    ]\n",
    "\n",
    "# create a list of the values we want to assign for each condition\n",
    "values = ['0', '1-10', '10-50', '50-100','100+']\n",
    "\n",
    "# create a new column and use np.select to assign values to it using our lists as arguments\n",
    "df_input['like_count_class'] = np.select(conditions, values)\n",
    "\n",
    "# display updated DataFrame\n",
    "df_input.head(2)\n",
    "\n",
    "pd.crosstab(index=df_input['like_count_class'], columns='like_count')\n"
   ]
  },
  {
   "cell_type": "code",
   "execution_count": 184,
   "id": "97f57536",
   "metadata": {},
   "outputs": [
    {
     "data": {
      "text/html": [
       "<div>\n",
       "<style scoped>\n",
       "    .dataframe tbody tr th:only-of-type {\n",
       "        vertical-align: middle;\n",
       "    }\n",
       "\n",
       "    .dataframe tbody tr th {\n",
       "        vertical-align: top;\n",
       "    }\n",
       "\n",
       "    .dataframe thead th {\n",
       "        text-align: right;\n",
       "    }\n",
       "</style>\n",
       "<table border=\"1\" class=\"dataframe\">\n",
       "  <thead>\n",
       "    <tr style=\"text-align: right;\">\n",
       "      <th>col_0</th>\n",
       "      <th>like_count</th>\n",
       "    </tr>\n",
       "    <tr>\n",
       "      <th>like_count_class</th>\n",
       "      <th></th>\n",
       "    </tr>\n",
       "  </thead>\n",
       "  <tbody>\n",
       "    <tr>\n",
       "      <th>0</th>\n",
       "      <td>64.969515</td>\n",
       "    </tr>\n",
       "    <tr>\n",
       "      <th>1-10</th>\n",
       "      <td>30.575463</td>\n",
       "    </tr>\n",
       "    <tr>\n",
       "      <th>10-50</th>\n",
       "      <td>3.545834</td>\n",
       "    </tr>\n",
       "    <tr>\n",
       "      <th>50-100</th>\n",
       "      <td>0.909188</td>\n",
       "    </tr>\n",
       "  </tbody>\n",
       "</table>\n",
       "</div>"
      ],
      "text/plain": [
       "col_0             like_count\n",
       "like_count_class            \n",
       "0                  64.969515\n",
       "1-10               30.575463\n",
       "10-50               3.545834\n",
       "50-100              0.909188"
      ]
     },
     "execution_count": 184,
     "metadata": {},
     "output_type": "execute_result"
    }
   ],
   "source": [
    "crosstl = pd.crosstab(index=df_unique['like_count_class'], columns='like_count')\n",
    "crosstl/crosstl.sum()*100"
   ]
  },
  {
   "cell_type": "code",
   "execution_count": 119,
   "id": "0f4bee03",
   "metadata": {},
   "outputs": [
    {
     "data": {
      "image/png": "[encoded data removed]",
      "text/plain": [
       "<Figure size 640x480 with 1 Axes>"
      ]
     },
     "metadata": {},
     "output_type": "display_data"
    }
   ],
   "source": [
    "barplotl = crosstl.plot.bar(rot=0,title=\"like_count distribution\")"
   ]
  },
  {
   "cell_type": "markdown",
   "id": "263f94c4",
   "metadata": {},
   "source": [
    "##### Like engagement quotient has over 93% as 0 and is not the important factor contributing for Tweet Engagment"
   ]
  },
  {
   "cell_type": "markdown",
   "id": "9e15495c",
   "metadata": {},
   "source": [
    "### Statistical Summary view for quote_count"
   ]
  },
  {
   "cell_type": "code",
   "execution_count": 120,
   "id": "253ec8e5",
   "metadata": {},
   "outputs": [
    {
     "data": {
      "text/plain": [
       "count    231339.000000\n",
       "mean          0.070161\n",
       "std           8.372321\n",
       "min           0.000000\n",
       "25%           0.000000\n",
       "50%           0.000000\n",
       "75%           0.000000\n",
       "max        3711.000000\n",
       "Name: quote_count, dtype: float64"
      ]
     },
     "execution_count": 120,
     "metadata": {},
     "output_type": "execute_result"
    }
   ],
   "source": [
    "df_input['quote_count'].describe()"
   ]
  },
  {
   "cell_type": "code",
   "execution_count": 121,
   "id": "c63971f3",
   "metadata": {},
   "outputs": [
    {
     "data": {
      "text/plain": [
       "0"
      ]
     },
     "execution_count": 121,
     "metadata": {},
     "output_type": "execute_result"
    }
   ],
   "source": [
    "df_input['quote_count'].isna().sum()"
   ]
  },
  {
   "cell_type": "code",
   "execution_count": 181,
   "id": "7e0ad20b",
   "metadata": {},
   "outputs": [
    {
     "data": {
      "text/html": [
       "<div>\n",
       "<style scoped>\n",
       "    .dataframe tbody tr th:only-of-type {\n",
       "        vertical-align: middle;\n",
       "    }\n",
       "\n",
       "    .dataframe tbody tr th {\n",
       "        vertical-align: top;\n",
       "    }\n",
       "\n",
       "    .dataframe thead th {\n",
       "        text-align: right;\n",
       "    }\n",
       "</style>\n",
       "<table border=\"1\" class=\"dataframe\">\n",
       "  <thead>\n",
       "    <tr style=\"text-align: right;\">\n",
       "      <th>col_0</th>\n",
       "      <th>quote_count</th>\n",
       "    </tr>\n",
       "    <tr>\n",
       "      <th>quote_count_class</th>\n",
       "      <th></th>\n",
       "    </tr>\n",
       "  </thead>\n",
       "  <tbody>\n",
       "    <tr>\n",
       "      <th>0</th>\n",
       "      <td>17710</td>\n",
       "    </tr>\n",
       "    <tr>\n",
       "      <th>1-10</th>\n",
       "      <td>919</td>\n",
       "    </tr>\n",
       "    <tr>\n",
       "      <th>10-50</th>\n",
       "      <td>57</td>\n",
       "    </tr>\n",
       "    <tr>\n",
       "      <th>50-100</th>\n",
       "      <td>12</td>\n",
       "    </tr>\n",
       "  </tbody>\n",
       "</table>\n",
       "</div>"
      ],
      "text/plain": [
       "col_0              quote_count\n",
       "quote_count_class             \n",
       "0                        17710\n",
       "1-10                       919\n",
       "10-50                       57\n",
       "50-100                      12"
      ]
     },
     "execution_count": 181,
     "metadata": {},
     "output_type": "execute_result"
    }
   ],
   "source": [
    "conditions = [\n",
    "    (df_input['quote_count'] <= 0),\n",
    "    (df_input['quote_count'] >= 1) & (df_input['quote_count'] <= 10),\n",
    "    (df_input['quote_count'] >10) & (df_input['quote_count'] <= 50),\n",
    "    (df_input['quote_count'] >50) & (df_input['quote_count'] <= 100),\n",
    "    (df_input['quote_count'] < 100)\n",
    "    ]\n",
    "\n",
    "# create a list of the values we want to assign for each condition\n",
    "values = ['0', '1-10', '10-50', '50-100','100+']\n",
    "\n",
    "# create a new column and use np.select to assign values to it using our lists as arguments\n",
    "df_input['quote_count_class'] = np.select(conditions, values)\n",
    "\n",
    "# display updated DataFrame\n",
    "df_input.head(2)\n",
    "\n",
    "pd.crosstab(index=df_input['quote_count_class'], columns='quote_count')\n"
   ]
  },
  {
   "cell_type": "code",
   "execution_count": 182,
   "id": "d165ceba",
   "metadata": {},
   "outputs": [
    {
     "data": {
      "text/html": [
       "<div>\n",
       "<style scoped>\n",
       "    .dataframe tbody tr th:only-of-type {\n",
       "        vertical-align: middle;\n",
       "    }\n",
       "\n",
       "    .dataframe tbody tr th {\n",
       "        vertical-align: top;\n",
       "    }\n",
       "\n",
       "    .dataframe thead th {\n",
       "        text-align: right;\n",
       "    }\n",
       "</style>\n",
       "<table border=\"1\" class=\"dataframe\">\n",
       "  <thead>\n",
       "    <tr style=\"text-align: right;\">\n",
       "      <th>col_0</th>\n",
       "      <th>quote_count</th>\n",
       "    </tr>\n",
       "    <tr>\n",
       "      <th>quote_count_class</th>\n",
       "      <th></th>\n",
       "    </tr>\n",
       "  </thead>\n",
       "  <tbody>\n",
       "    <tr>\n",
       "      <th>0</th>\n",
       "      <td>94.716012</td>\n",
       "    </tr>\n",
       "    <tr>\n",
       "      <th>1-10</th>\n",
       "      <td>4.914964</td>\n",
       "    </tr>\n",
       "    <tr>\n",
       "      <th>10-50</th>\n",
       "      <td>0.304845</td>\n",
       "    </tr>\n",
       "    <tr>\n",
       "      <th>50-100</th>\n",
       "      <td>0.064178</td>\n",
       "    </tr>\n",
       "  </tbody>\n",
       "</table>\n",
       "</div>"
      ],
      "text/plain": [
       "col_0              quote_count\n",
       "quote_count_class             \n",
       "0                    94.716012\n",
       "1-10                  4.914964\n",
       "10-50                 0.304845\n",
       "50-100                0.064178"
      ]
     },
     "execution_count": 182,
     "metadata": {},
     "output_type": "execute_result"
    }
   ],
   "source": [
    "crosstq = pd.crosstab(index=df_unique['quote_count_class'], columns='quote_count')\n",
    "crosstq/crosstq.sum()*100"
   ]
  },
  {
   "cell_type": "code",
   "execution_count": 125,
   "id": "9b37c80f",
   "metadata": {},
   "outputs": [
    {
     "data": {
      "image/png": "[encoded data removed]",
      "text/plain": [
       "<Figure size 640x480 with 1 Axes>"
      ]
     },
     "metadata": {},
     "output_type": "display_data"
    }
   ],
   "source": [
    "barplotq = crosstl.plot.bar(rot=0,title=\"quote_count distribution\")"
   ]
  },
  {
   "cell_type": "markdown",
   "id": "c47f2224",
   "metadata": {},
   "source": [
    "##### Quote engagement quotient is almost nill and is not the important factor contributing for Tweet Engagement"
   ]
  },
  {
   "cell_type": "markdown",
   "id": "ddba74d0",
   "metadata": {},
   "source": [
    "### Statistical Summary view for time of tweet creation"
   ]
  },
  {
   "cell_type": "code",
   "execution_count": 128,
   "id": "4d978e78",
   "metadata": {},
   "outputs": [
    {
     "data": {
      "text/plain": [
       "count    231339.000000\n",
       "mean          9.514716\n",
       "std           5.253183\n",
       "min           0.000000\n",
       "25%           5.000000\n",
       "50%           9.000000\n",
       "75%          14.000000\n",
       "max          23.000000\n",
       "Name: time, dtype: float64"
      ]
     },
     "execution_count": 128,
     "metadata": {},
     "output_type": "execute_result"
    }
   ],
   "source": [
    "df_input['time'].describe()"
   ]
  },
  {
   "cell_type": "code",
   "execution_count": 130,
   "id": "edfae0f1",
   "metadata": {},
   "outputs": [
    {
     "data": {
      "text/plain": [
       "0"
      ]
     },
     "execution_count": 130,
     "metadata": {},
     "output_type": "execute_result"
    }
   ],
   "source": [
    "df_input['time'].isna().sum()"
   ]
  },
  {
   "cell_type": "code",
   "execution_count": 136,
   "id": "ddea5991",
   "metadata": {},
   "outputs": [
    {
     "data": {
      "text/html": [
       "<div>\n",
       "<style scoped>\n",
       "    .dataframe tbody tr th:only-of-type {\n",
       "        vertical-align: middle;\n",
       "    }\n",
       "\n",
       "    .dataframe tbody tr th {\n",
       "        vertical-align: top;\n",
       "    }\n",
       "\n",
       "    .dataframe thead th {\n",
       "        text-align: right;\n",
       "    }\n",
       "</style>\n",
       "<table border=\"1\" class=\"dataframe\">\n",
       "  <thead>\n",
       "    <tr style=\"text-align: right;\">\n",
       "      <th>col_0</th>\n",
       "      <th>time</th>\n",
       "    </tr>\n",
       "    <tr>\n",
       "      <th>Hour_of_tweet_creation</th>\n",
       "      <th></th>\n",
       "    </tr>\n",
       "  </thead>\n",
       "  <tbody>\n",
       "    <tr>\n",
       "      <th>12am-6am</th>\n",
       "      <td>74196</td>\n",
       "    </tr>\n",
       "    <tr>\n",
       "      <th>12pm-6pm</th>\n",
       "      <td>59997</td>\n",
       "    </tr>\n",
       "    <tr>\n",
       "      <th>6am-12pm</th>\n",
       "      <td>86939</td>\n",
       "    </tr>\n",
       "    <tr>\n",
       "      <th>6pm-12am</th>\n",
       "      <td>10207</td>\n",
       "    </tr>\n",
       "  </tbody>\n",
       "</table>\n",
       "</div>"
      ],
      "text/plain": [
       "col_0                    time\n",
       "Hour_of_tweet_creation       \n",
       "12am-6am                74196\n",
       "12pm-6pm                59997\n",
       "6am-12pm                86939\n",
       "6pm-12am                10207"
      ]
     },
     "execution_count": 136,
     "metadata": {},
     "output_type": "execute_result"
    }
   ],
   "source": [
    "conditions = [\n",
    "    (df['time'] >= 0) & (df['time'] <= 6),\n",
    "    (df['time'] >6) & (df['time'] <= 12),\n",
    "    (df['time'] >12) & (df['time'] <= 18),\n",
    "    (df['time'] >18) & (df['time'] <= 23)\n",
    "    ]\n",
    "\n",
    "# create a list of the values we want to assign for each condition\n",
    "values = ['12am-6am', '6am-12pm', '12pm-6pm', '6pm-12am']\n",
    "\n",
    "# create a new column and use np.select to assign values to it using our lists as arguments\n",
    "df['Hour_of_tweet_creation'] = np.select(conditions, values)\n",
    "\n",
    "# display updated DataFrame\n",
    "df.head(2)\n",
    "\n",
    "pd.crosstab(index=df['Hour_of_tweet_creation'], columns='time')\n"
   ]
  },
  {
   "cell_type": "code",
   "execution_count": 138,
   "id": "c0900973",
   "metadata": {},
   "outputs": [
    {
     "data": {
      "text/html": [
       "<div>\n",
       "<style scoped>\n",
       "    .dataframe tbody tr th:only-of-type {\n",
       "        vertical-align: middle;\n",
       "    }\n",
       "\n",
       "    .dataframe tbody tr th {\n",
       "        vertical-align: top;\n",
       "    }\n",
       "\n",
       "    .dataframe thead th {\n",
       "        text-align: right;\n",
       "    }\n",
       "</style>\n",
       "<table border=\"1\" class=\"dataframe\">\n",
       "  <thead>\n",
       "    <tr style=\"text-align: right;\">\n",
       "      <th>col_0</th>\n",
       "      <th>time</th>\n",
       "    </tr>\n",
       "    <tr>\n",
       "      <th>Hour_of_tweet_creation</th>\n",
       "      <th></th>\n",
       "    </tr>\n",
       "  </thead>\n",
       "  <tbody>\n",
       "    <tr>\n",
       "      <th>12am-6am</th>\n",
       "      <td>32.072413</td>\n",
       "    </tr>\n",
       "    <tr>\n",
       "      <th>12pm-6pm</th>\n",
       "      <td>25.934667</td>\n",
       "    </tr>\n",
       "    <tr>\n",
       "      <th>6am-12pm</th>\n",
       "      <td>37.580780</td>\n",
       "    </tr>\n",
       "    <tr>\n",
       "      <th>6pm-12am</th>\n",
       "      <td>4.412140</td>\n",
       "    </tr>\n",
       "  </tbody>\n",
       "</table>\n",
       "</div>"
      ],
      "text/plain": [
       "col_0                        time\n",
       "Hour_of_tweet_creation           \n",
       "12am-6am                32.072413\n",
       "12pm-6pm                25.934667\n",
       "6am-12pm                37.580780\n",
       "6pm-12am                 4.412140"
      ]
     },
     "execution_count": 138,
     "metadata": {},
     "output_type": "execute_result"
    }
   ],
   "source": [
    "crosstti = pd.crosstab(index=df['Hour_of_tweet_creation'], columns='time')\n",
    "crosstti/crosstti.sum()*100"
   ]
  },
  {
   "cell_type": "code",
   "execution_count": 139,
   "id": "7e9655d0",
   "metadata": {},
   "outputs": [
    {
     "data": {
      "image/png": "[encoded data removed]",
      "text/plain": [
       "<Figure size 640x480 with 1 Axes>"
      ]
     },
     "metadata": {},
     "output_type": "display_data"
    }
   ],
   "source": [
    "crosstti = pd.crosstab(index=df['Hour_of_tweet_creation'], columns='time')\n",
    "barplotti = crosstti.plot.bar(rot=0,title=\"Hour of tweet_creation\")"
   ]
  },
  {
   "cell_type": "markdown",
   "id": "e523c409",
   "metadata": {},
   "source": [
    "#### It can be seen that most of the tweet has been done between 6am and 12pm"
   ]
  },
  {
   "cell_type": "markdown",
   "id": "0b517902",
   "metadata": {},
   "source": [
    "### Statistical Summary view for day"
   ]
  },
  {
   "cell_type": "code",
   "execution_count": 142,
   "id": "d90dfd67",
   "metadata": {},
   "outputs": [
    {
     "data": {
      "text/html": [
       "<div>\n",
       "<style scoped>\n",
       "    .dataframe tbody tr th:only-of-type {\n",
       "        vertical-align: middle;\n",
       "    }\n",
       "\n",
       "    .dataframe tbody tr th {\n",
       "        vertical-align: top;\n",
       "    }\n",
       "\n",
       "    .dataframe thead th {\n",
       "        text-align: right;\n",
       "    }\n",
       "</style>\n",
       "<table border=\"1\" class=\"dataframe\">\n",
       "  <thead>\n",
       "    <tr style=\"text-align: right;\">\n",
       "      <th>col_0</th>\n",
       "      <th>count</th>\n",
       "    </tr>\n",
       "    <tr>\n",
       "      <th>day</th>\n",
       "      <th></th>\n",
       "    </tr>\n",
       "  </thead>\n",
       "  <tbody>\n",
       "    <tr>\n",
       "      <th>1</th>\n",
       "      <td>7673</td>\n",
       "    </tr>\n",
       "    <tr>\n",
       "      <th>2</th>\n",
       "      <td>2462</td>\n",
       "    </tr>\n",
       "    <tr>\n",
       "      <th>3</th>\n",
       "      <td>138625</td>\n",
       "    </tr>\n",
       "    <tr>\n",
       "      <th>4</th>\n",
       "      <td>48556</td>\n",
       "    </tr>\n",
       "    <tr>\n",
       "      <th>5</th>\n",
       "      <td>21796</td>\n",
       "    </tr>\n",
       "    <tr>\n",
       "      <th>6</th>\n",
       "      <td>8408</td>\n",
       "    </tr>\n",
       "    <tr>\n",
       "      <th>7</th>\n",
       "      <td>3819</td>\n",
       "    </tr>\n",
       "  </tbody>\n",
       "</table>\n",
       "</div>"
      ],
      "text/plain": [
       "col_0   count\n",
       "day          \n",
       "1        7673\n",
       "2        2462\n",
       "3      138625\n",
       "4       48556\n",
       "5       21796\n",
       "6        8408\n",
       "7        3819"
      ]
     },
     "execution_count": 142,
     "metadata": {},
     "output_type": "execute_result"
    }
   ],
   "source": [
    "crossday = pd.crosstab(index=df_input['day'], columns='count')\n",
    "crossday"
   ]
  },
  {
   "cell_type": "code",
   "execution_count": 143,
   "id": "41510253",
   "metadata": {},
   "outputs": [
    {
     "data": {
      "text/html": [
       "<div>\n",
       "<style scoped>\n",
       "    .dataframe tbody tr th:only-of-type {\n",
       "        vertical-align: middle;\n",
       "    }\n",
       "\n",
       "    .dataframe tbody tr th {\n",
       "        vertical-align: top;\n",
       "    }\n",
       "\n",
       "    .dataframe thead th {\n",
       "        text-align: right;\n",
       "    }\n",
       "</style>\n",
       "<table border=\"1\" class=\"dataframe\">\n",
       "  <thead>\n",
       "    <tr style=\"text-align: right;\">\n",
       "      <th>col_0</th>\n",
       "      <th>count</th>\n",
       "    </tr>\n",
       "    <tr>\n",
       "      <th>day</th>\n",
       "      <th></th>\n",
       "    </tr>\n",
       "  </thead>\n",
       "  <tbody>\n",
       "    <tr>\n",
       "      <th>1</th>\n",
       "      <td>3.316778</td>\n",
       "    </tr>\n",
       "    <tr>\n",
       "      <th>2</th>\n",
       "      <td>1.064239</td>\n",
       "    </tr>\n",
       "    <tr>\n",
       "      <th>3</th>\n",
       "      <td>59.922884</td>\n",
       "    </tr>\n",
       "    <tr>\n",
       "      <th>4</th>\n",
       "      <td>20.989111</td>\n",
       "    </tr>\n",
       "    <tr>\n",
       "      <th>5</th>\n",
       "      <td>9.421671</td>\n",
       "    </tr>\n",
       "    <tr>\n",
       "      <th>6</th>\n",
       "      <td>3.634493</td>\n",
       "    </tr>\n",
       "    <tr>\n",
       "      <th>7</th>\n",
       "      <td>1.650824</td>\n",
       "    </tr>\n",
       "  </tbody>\n",
       "</table>\n",
       "</div>"
      ],
      "text/plain": [
       "col_0      count\n",
       "day             \n",
       "1       3.316778\n",
       "2       1.064239\n",
       "3      59.922884\n",
       "4      20.989111\n",
       "5       9.421671\n",
       "6       3.634493\n",
       "7       1.650824"
      ]
     },
     "execution_count": 143,
     "metadata": {},
     "output_type": "execute_result"
    }
   ],
   "source": [
    "crossday/crossday.sum()*100"
   ]
  },
  {
   "cell_type": "markdown",
   "id": "3f6c689c",
   "metadata": {},
   "source": [
    "#### It can be seen that almost 60% of tweet has been done on Wednesday"
   ]
  },
  {
   "cell_type": "markdown",
   "id": "34aed525",
   "metadata": {},
   "source": [
    "### Statistical Summary view for is_reply"
   ]
  },
  {
   "cell_type": "code",
   "execution_count": 144,
   "id": "a029d0fb",
   "metadata": {},
   "outputs": [
    {
     "data": {
      "text/plain": [
       "count     231339\n",
       "unique         2\n",
       "top        False\n",
       "freq      221527\n",
       "Name: is_reply, dtype: object"
      ]
     },
     "execution_count": 144,
     "metadata": {},
     "output_type": "execute_result"
    }
   ],
   "source": [
    "df['is_reply'].astype('bool').describe()"
   ]
  },
  {
   "cell_type": "code",
   "execution_count": 145,
   "id": "189ac703",
   "metadata": {},
   "outputs": [
    {
     "data": {
      "text/html": [
       "<div>\n",
       "<style scoped>\n",
       "    .dataframe tbody tr th:only-of-type {\n",
       "        vertical-align: middle;\n",
       "    }\n",
       "\n",
       "    .dataframe tbody tr th {\n",
       "        vertical-align: top;\n",
       "    }\n",
       "\n",
       "    .dataframe thead th {\n",
       "        text-align: right;\n",
       "    }\n",
       "</style>\n",
       "<table border=\"1\" class=\"dataframe\">\n",
       "  <thead>\n",
       "    <tr style=\"text-align: right;\">\n",
       "      <th>col_0</th>\n",
       "      <th>count</th>\n",
       "    </tr>\n",
       "    <tr>\n",
       "      <th>is_reply</th>\n",
       "      <th></th>\n",
       "    </tr>\n",
       "  </thead>\n",
       "  <tbody>\n",
       "    <tr>\n",
       "      <th>0</th>\n",
       "      <td>221527</td>\n",
       "    </tr>\n",
       "    <tr>\n",
       "      <th>1</th>\n",
       "      <td>9812</td>\n",
       "    </tr>\n",
       "  </tbody>\n",
       "</table>\n",
       "</div>"
      ],
      "text/plain": [
       "col_0      count\n",
       "is_reply        \n",
       "0         221527\n",
       "1           9812"
      ]
     },
     "execution_count": 145,
     "metadata": {},
     "output_type": "execute_result"
    }
   ],
   "source": [
    "crossre = pd.crosstab(index=df['is_reply'], columns='count')\n",
    "crossre"
   ]
  },
  {
   "cell_type": "code",
   "execution_count": 146,
   "id": "837d787f",
   "metadata": {},
   "outputs": [
    {
     "data": {
      "text/html": [
       "<div>\n",
       "<style scoped>\n",
       "    .dataframe tbody tr th:only-of-type {\n",
       "        vertical-align: middle;\n",
       "    }\n",
       "\n",
       "    .dataframe tbody tr th {\n",
       "        vertical-align: top;\n",
       "    }\n",
       "\n",
       "    .dataframe thead th {\n",
       "        text-align: right;\n",
       "    }\n",
       "</style>\n",
       "<table border=\"1\" class=\"dataframe\">\n",
       "  <thead>\n",
       "    <tr style=\"text-align: right;\">\n",
       "      <th>col_0</th>\n",
       "      <th>count</th>\n",
       "    </tr>\n",
       "    <tr>\n",
       "      <th>is_reply</th>\n",
       "      <th></th>\n",
       "    </tr>\n",
       "  </thead>\n",
       "  <tbody>\n",
       "    <tr>\n",
       "      <th>0</th>\n",
       "      <td>95.758605</td>\n",
       "    </tr>\n",
       "    <tr>\n",
       "      <th>1</th>\n",
       "      <td>4.241395</td>\n",
       "    </tr>\n",
       "  </tbody>\n",
       "</table>\n",
       "</div>"
      ],
      "text/plain": [
       "col_0         count\n",
       "is_reply           \n",
       "0         95.758605\n",
       "1          4.241395"
      ]
     },
     "execution_count": 146,
     "metadata": {},
     "output_type": "execute_result"
    }
   ],
   "source": [
    "crossre/crossre.sum()*100"
   ]
  },
  {
   "cell_type": "markdown",
   "id": "56a309da",
   "metadata": {},
   "source": [
    "#### It can be seen that most of the tweet (95%) have not been replied"
   ]
  },
  {
   "cell_type": "markdown",
   "id": "d3a851c4",
   "metadata": {},
   "source": [
    "### Statistical Summary view for verified"
   ]
  },
  {
   "cell_type": "code",
   "execution_count": 147,
   "id": "4972648f",
   "metadata": {},
   "outputs": [
    {
     "data": {
      "text/plain": [
       "count     231339\n",
       "unique         2\n",
       "top        False\n",
       "freq      229746\n",
       "Name: verified, dtype: object"
      ]
     },
     "execution_count": 147,
     "metadata": {},
     "output_type": "execute_result"
    }
   ],
   "source": [
    "df['verified'].astype('bool').describe()"
   ]
  },
  {
   "cell_type": "code",
   "execution_count": 178,
   "id": "41a2e970",
   "metadata": {},
   "outputs": [
    {
     "data": {
      "text/html": [
       "<div>\n",
       "<style scoped>\n",
       "    .dataframe tbody tr th:only-of-type {\n",
       "        vertical-align: middle;\n",
       "    }\n",
       "\n",
       "    .dataframe tbody tr th {\n",
       "        vertical-align: top;\n",
       "    }\n",
       "\n",
       "    .dataframe thead th {\n",
       "        text-align: right;\n",
       "    }\n",
       "</style>\n",
       "<table border=\"1\" class=\"dataframe\">\n",
       "  <thead>\n",
       "    <tr style=\"text-align: right;\">\n",
       "      <th>col_0</th>\n",
       "      <th>count</th>\n",
       "    </tr>\n",
       "    <tr>\n",
       "      <th>verified</th>\n",
       "      <th></th>\n",
       "    </tr>\n",
       "  </thead>\n",
       "  <tbody>\n",
       "    <tr>\n",
       "      <th>0</th>\n",
       "      <td>229746</td>\n",
       "    </tr>\n",
       "    <tr>\n",
       "      <th>1</th>\n",
       "      <td>1593</td>\n",
       "    </tr>\n",
       "  </tbody>\n",
       "</table>\n",
       "</div>"
      ],
      "text/plain": [
       "col_0      count\n",
       "verified        \n",
       "0         229746\n",
       "1           1593"
      ]
     },
     "execution_count": 178,
     "metadata": {},
     "output_type": "execute_result"
    }
   ],
   "source": [
    "crossv = pd.crosstab(index=df['verified'], columns='count')\n",
    "crossv"
   ]
  },
  {
   "cell_type": "code",
   "execution_count": 179,
   "id": "ac1bac3b",
   "metadata": {},
   "outputs": [
    {
     "data": {
      "text/html": [
       "<div>\n",
       "<style scoped>\n",
       "    .dataframe tbody tr th:only-of-type {\n",
       "        vertical-align: middle;\n",
       "    }\n",
       "\n",
       "    .dataframe tbody tr th {\n",
       "        vertical-align: top;\n",
       "    }\n",
       "\n",
       "    .dataframe thead th {\n",
       "        text-align: right;\n",
       "    }\n",
       "</style>\n",
       "<table border=\"1\" class=\"dataframe\">\n",
       "  <thead>\n",
       "    <tr style=\"text-align: right;\">\n",
       "      <th>col_0</th>\n",
       "      <th>count</th>\n",
       "    </tr>\n",
       "    <tr>\n",
       "      <th>verified</th>\n",
       "      <th></th>\n",
       "    </tr>\n",
       "  </thead>\n",
       "  <tbody>\n",
       "    <tr>\n",
       "      <th>0</th>\n",
       "      <td>99.3114</td>\n",
       "    </tr>\n",
       "    <tr>\n",
       "      <th>1</th>\n",
       "      <td>0.6886</td>\n",
       "    </tr>\n",
       "  </tbody>\n",
       "</table>\n",
       "</div>"
      ],
      "text/plain": [
       "col_0       count\n",
       "verified         \n",
       "0         99.3114\n",
       "1          0.6886"
      ]
     },
     "execution_count": 179,
     "metadata": {},
     "output_type": "execute_result"
    }
   ],
   "source": [
    "crossv/crossv.sum()*100"
   ]
  },
  {
   "cell_type": "code",
   "execution_count": 150,
   "id": "c75f9c01",
   "metadata": {},
   "outputs": [
    {
     "data": {
      "image/png": "[encoded data removed]",
      "text/plain": [
       "<Figure size 640x480 with 1 Axes>"
      ]
     },
     "metadata": {},
     "output_type": "display_data"
    }
   ],
   "source": [
    "barplotv = crossv.plot.bar(rot=0,title=\"Verified Account Status\")"
   ]
  },
  {
   "cell_type": "markdown",
   "id": "d9cdb3a1",
   "metadata": {},
   "source": [
    "#### It can be seen that only 0.68% are verified account and most of the tweet engagement has been through non-verified (regular accounts) "
   ]
  },
  {
   "cell_type": "markdown",
   "id": "6f7b03bf",
   "metadata": {},
   "source": [
    "### Statistical Summary view for url"
   ]
  },
  {
   "cell_type": "code",
   "execution_count": 153,
   "id": "30b3b4c8",
   "metadata": {},
   "outputs": [
    {
     "data": {
      "text/plain": [
       "count     231339\n",
       "unique         2\n",
       "top        False\n",
       "freq      177748\n",
       "Name: url, dtype: object"
      ]
     },
     "execution_count": 153,
     "metadata": {},
     "output_type": "execute_result"
    }
   ],
   "source": [
    "df['url'].astype('bool').describe()"
   ]
  },
  {
   "cell_type": "code",
   "execution_count": 154,
   "id": "d9f55f87",
   "metadata": {},
   "outputs": [
    {
     "data": {
      "text/html": [
       "<div>\n",
       "<style scoped>\n",
       "    .dataframe tbody tr th:only-of-type {\n",
       "        vertical-align: middle;\n",
       "    }\n",
       "\n",
       "    .dataframe tbody tr th {\n",
       "        vertical-align: top;\n",
       "    }\n",
       "\n",
       "    .dataframe thead th {\n",
       "        text-align: right;\n",
       "    }\n",
       "</style>\n",
       "<table border=\"1\" class=\"dataframe\">\n",
       "  <thead>\n",
       "    <tr style=\"text-align: right;\">\n",
       "      <th>col_0</th>\n",
       "      <th>count</th>\n",
       "    </tr>\n",
       "    <tr>\n",
       "      <th>url</th>\n",
       "      <th></th>\n",
       "    </tr>\n",
       "  </thead>\n",
       "  <tbody>\n",
       "    <tr>\n",
       "      <th>0</th>\n",
       "      <td>177748</td>\n",
       "    </tr>\n",
       "    <tr>\n",
       "      <th>1</th>\n",
       "      <td>53591</td>\n",
       "    </tr>\n",
       "  </tbody>\n",
       "</table>\n",
       "</div>"
      ],
      "text/plain": [
       "col_0   count\n",
       "url          \n",
       "0      177748\n",
       "1       53591"
      ]
     },
     "execution_count": 154,
     "metadata": {},
     "output_type": "execute_result"
    }
   ],
   "source": [
    "crossu = pd.crosstab(index=df['url'], columns='count')\n",
    "crossu"
   ]
  },
  {
   "cell_type": "code",
   "execution_count": 155,
   "id": "ad7561ee",
   "metadata": {},
   "outputs": [
    {
     "data": {
      "text/html": [
       "<div>\n",
       "<style scoped>\n",
       "    .dataframe tbody tr th:only-of-type {\n",
       "        vertical-align: middle;\n",
       "    }\n",
       "\n",
       "    .dataframe tbody tr th {\n",
       "        vertical-align: top;\n",
       "    }\n",
       "\n",
       "    .dataframe thead th {\n",
       "        text-align: right;\n",
       "    }\n",
       "</style>\n",
       "<table border=\"1\" class=\"dataframe\">\n",
       "  <thead>\n",
       "    <tr style=\"text-align: right;\">\n",
       "      <th>col_0</th>\n",
       "      <th>count</th>\n",
       "    </tr>\n",
       "    <tr>\n",
       "      <th>url</th>\n",
       "      <th></th>\n",
       "    </tr>\n",
       "  </thead>\n",
       "  <tbody>\n",
       "    <tr>\n",
       "      <th>0</th>\n",
       "      <td>76.834429</td>\n",
       "    </tr>\n",
       "    <tr>\n",
       "      <th>1</th>\n",
       "      <td>23.165571</td>\n",
       "    </tr>\n",
       "  </tbody>\n",
       "</table>\n",
       "</div>"
      ],
      "text/plain": [
       "col_0      count\n",
       "url             \n",
       "0      76.834429\n",
       "1      23.165571"
      ]
     },
     "execution_count": 155,
     "metadata": {},
     "output_type": "execute_result"
    }
   ],
   "source": [
    "crossu/crossu.sum()*100"
   ]
  },
  {
   "cell_type": "code",
   "execution_count": 159,
   "id": "5366eac3",
   "metadata": {},
   "outputs": [
    {
     "data": {
      "image/png": "[encoded data removed]",
      "text/plain": [
       "<Figure size 640x480 with 1 Axes>"
      ]
     },
     "metadata": {},
     "output_type": "display_data"
    }
   ],
   "source": [
    "barplotv = crossv.plot.bar(rot=0,title=\"Tweet contain URL\")"
   ]
  },
  {
   "cell_type": "markdown",
   "id": "b32f3ec3",
   "metadata": {},
   "source": [
    "#### It can be seen that only 23% tweet contains url"
   ]
  },
  {
   "cell_type": "markdown",
   "id": "e8ed1f01",
   "metadata": {},
   "source": [
    "### Statistical Summary view for is_retweet"
   ]
  },
  {
   "cell_type": "code",
   "execution_count": 19,
   "id": "b6c9c6a9",
   "metadata": {},
   "outputs": [
    {
     "data": {
      "text/plain": [
       "count     231339\n",
       "unique         2\n",
       "top         True\n",
       "freq      197473\n",
       "Name: is_retweet, dtype: object"
      ]
     },
     "execution_count": 19,
     "metadata": {},
     "output_type": "execute_result"
    }
   ],
   "source": [
    "df['is_retweet'].astype('bool').describe()"
   ]
  },
  {
   "cell_type": "code",
   "execution_count": 20,
   "id": "024e806c",
   "metadata": {},
   "outputs": [
    {
     "data": {
      "text/html": [
       "<div>\n",
       "<style scoped>\n",
       "    .dataframe tbody tr th:only-of-type {\n",
       "        vertical-align: middle;\n",
       "    }\n",
       "\n",
       "    .dataframe tbody tr th {\n",
       "        vertical-align: top;\n",
       "    }\n",
       "\n",
       "    .dataframe thead th {\n",
       "        text-align: right;\n",
       "    }\n",
       "</style>\n",
       "<table border=\"1\" class=\"dataframe\">\n",
       "  <thead>\n",
       "    <tr style=\"text-align: right;\">\n",
       "      <th>col_0</th>\n",
       "      <th>count</th>\n",
       "    </tr>\n",
       "    <tr>\n",
       "      <th>is_retweet</th>\n",
       "      <th></th>\n",
       "    </tr>\n",
       "  </thead>\n",
       "  <tbody>\n",
       "    <tr>\n",
       "      <th>0</th>\n",
       "      <td>33866</td>\n",
       "    </tr>\n",
       "    <tr>\n",
       "      <th>1</th>\n",
       "      <td>197473</td>\n",
       "    </tr>\n",
       "  </tbody>\n",
       "</table>\n",
       "</div>"
      ],
      "text/plain": [
       "col_0        count\n",
       "is_retweet        \n",
       "0            33866\n",
       "1           197473"
      ]
     },
     "execution_count": 20,
     "metadata": {},
     "output_type": "execute_result"
    }
   ],
   "source": [
    "crossret = pd.crosstab(index=df['is_retweet'], columns='count')\n",
    "crossret"
   ]
  },
  {
   "cell_type": "code",
   "execution_count": 22,
   "id": "099a6a72",
   "metadata": {},
   "outputs": [
    {
     "data": {
      "text/html": [
       "<div>\n",
       "<style scoped>\n",
       "    .dataframe tbody tr th:only-of-type {\n",
       "        vertical-align: middle;\n",
       "    }\n",
       "\n",
       "    .dataframe tbody tr th {\n",
       "        vertical-align: top;\n",
       "    }\n",
       "\n",
       "    .dataframe thead th {\n",
       "        text-align: right;\n",
       "    }\n",
       "</style>\n",
       "<table border=\"1\" class=\"dataframe\">\n",
       "  <thead>\n",
       "    <tr style=\"text-align: right;\">\n",
       "      <th>col_0</th>\n",
       "      <th>count</th>\n",
       "    </tr>\n",
       "    <tr>\n",
       "      <th>is_retweet</th>\n",
       "      <th></th>\n",
       "    </tr>\n",
       "  </thead>\n",
       "  <tbody>\n",
       "    <tr>\n",
       "      <th>0</th>\n",
       "      <td>14.639123</td>\n",
       "    </tr>\n",
       "    <tr>\n",
       "      <th>1</th>\n",
       "      <td>85.360877</td>\n",
       "    </tr>\n",
       "  </tbody>\n",
       "</table>\n",
       "</div>"
      ],
      "text/plain": [
       "col_0           count\n",
       "is_retweet           \n",
       "0           14.639123\n",
       "1           85.360877"
      ]
     },
     "execution_count": 22,
     "metadata": {},
     "output_type": "execute_result"
    }
   ],
   "source": [
    "crossret/crossret.sum()*100"
   ]
  },
  {
   "cell_type": "code",
   "execution_count": 21,
   "id": "df4e0114",
   "metadata": {},
   "outputs": [
    {
     "data": {
      "image/png": "[encoded data removed]",
      "text/plain": [
       "<Figure size 640x480 with 1 Axes>"
      ]
     },
     "metadata": {},
     "output_type": "display_data"
    }
   ],
   "source": [
    "barplotret = crossret.plot.bar(rot=0,title=\"Tweet Retweeted\")"
   ]
  },
  {
   "cell_type": "markdown",
   "id": "c8a18c3c",
   "metadata": {},
   "source": [
    "### EDA Insight from Input features\n",
    "\n",
    "#### 36% of tweet contains Hindi text\n",
    "\n",
    "###### It can be seen that most of the time, tweet has been considered for Hashtag only once (1 class has 47%)\n",
    "\n",
    "######  Most of the Follower count falls under 10000\n",
    "\n",
    "###### It can be seen that only 23% tweet contains url¶\n",
    "\n",
    "##### There are 53% tweet with 0 emotion score \n",
    "\n",
    "#### 85% of tweet have been retweeted\n",
    "\n",
    "###### It can be seen that most of the tweet has been done between 6am and 12pm\n",
    "\n",
    "###### It can be seen that almost 60% of tweet has been done on Wednesday\n",
    "\n",
    "###### Like engagement quotient has over 93% as 0 and is not the important factor contributing for Tweet Engagment\n",
    "\n",
    "###### Quote engagement quotient is almost nill and is not the important factor contributing for Tweet Engagement\n",
    "\n",
    "######  Reply engagement quotient is almost nill and is not the important factor contributing for Tweet Engagement\n",
    "\n",
    "###### It can be seen that most of the tweet (95%) have not been replied\n",
    "\n",
    "###### It can be seen that only 0.68% are verified account and most of the tweet engagement has been through non-verified (regular accounts)\n",
    "\n"
   ]
  },
  {
   "cell_type": "code",
   "execution_count": null,
   "id": "d924e446",
   "metadata": {},
   "outputs": [],
   "source": []
  },
  {
   "cell_type": "code",
   "execution_count": null,
   "id": "473bccf2",
   "metadata": {},
   "outputs": [],
   "source": []
  },
  {
   "cell_type": "code",
   "execution_count": null,
   "id": "3d355218",
   "metadata": {},
   "outputs": [],
   "source": []
  }
 ],
 "metadata": {
  "kernelspec": {
   "display_name": "Python 3 (ipykernel)",
   "language": "python",
   "name": "python3"
  },
  "language_info": {
   "codemirror_mode": {
    "name": "ipython",
    "version": 3
   },
   "file_extension": ".py",
   "mimetype": "text/x-python",
   "name": "python",
   "nbconvert_exporter": "python",
   "pygments_lexer": "ipython3",
   "version": "3.9.13"
  }
 },
 "nbformat": 4,
 "nbformat_minor": 5
}
